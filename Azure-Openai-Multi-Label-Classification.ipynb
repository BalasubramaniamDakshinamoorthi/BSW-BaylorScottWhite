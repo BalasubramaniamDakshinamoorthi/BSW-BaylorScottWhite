{
 "cells": [
  {
   "attachments": {},
   "cell_type": "markdown",
   "metadata": {},
   "source": [
    "## The Power OF Function Calling using OpenAI API"
   ]
  },
  {
   "cell_type": "code",
   "execution_count": 1,
   "metadata": {},
   "outputs": [
    {
     "name": "stdout",
     "output_type": "stream",
     "text": [
      "Defaulting to user installation because normal site-packages is not writeable\n",
      "Requirement already satisfied: openai in /Users/balasubramaniamdakshinamoorthi/Library/Python/3.9/lib/python/site-packages (1.1.2)\n",
      "Requirement already satisfied: anyio<4,>=3.5.0 in /Users/balasubramaniamdakshinamoorthi/Library/Python/3.9/lib/python/site-packages (from openai) (3.7.1)\n",
      "Requirement already satisfied: distro<2,>=1.7.0 in /Users/balasubramaniamdakshinamoorthi/Library/Python/3.9/lib/python/site-packages (from openai) (1.9.0)\n",
      "Requirement already satisfied: httpx<1,>=0.23.0 in /Users/balasubramaniamdakshinamoorthi/Library/Python/3.9/lib/python/site-packages (from openai) (0.27.0)\n",
      "Requirement already satisfied: pydantic<3,>=1.9.0 in /Users/balasubramaniamdakshinamoorthi/Library/Python/3.9/lib/python/site-packages (from openai) (2.6.4)\n",
      "Requirement already satisfied: tqdm>4 in /Users/balasubramaniamdakshinamoorthi/Library/Python/3.9/lib/python/site-packages (from openai) (4.66.2)\n",
      "Requirement already satisfied: typing-extensions<5,>=4.5 in /Users/balasubramaniamdakshinamoorthi/Library/Python/3.9/lib/python/site-packages (from openai) (4.8.0)\n",
      "Requirement already satisfied: idna>=2.8 in /Users/balasubramaniamdakshinamoorthi/Library/Python/3.9/lib/python/site-packages (from anyio<4,>=3.5.0->openai) (3.4)\n",
      "Requirement already satisfied: sniffio>=1.1 in /Users/balasubramaniamdakshinamoorthi/Library/Python/3.9/lib/python/site-packages (from anyio<4,>=3.5.0->openai) (1.3.0)\n",
      "Requirement already satisfied: exceptiongroup in /Users/balasubramaniamdakshinamoorthi/Library/Python/3.9/lib/python/site-packages (from anyio<4,>=3.5.0->openai) (1.2.0)\n",
      "Requirement already satisfied: certifi in /Users/balasubramaniamdakshinamoorthi/Library/Python/3.9/lib/python/site-packages (from httpx<1,>=0.23.0->openai) (2023.7.22)\n",
      "Requirement already satisfied: httpcore==1.* in /Users/balasubramaniamdakshinamoorthi/Library/Python/3.9/lib/python/site-packages (from httpx<1,>=0.23.0->openai) (1.0.5)\n",
      "Requirement already satisfied: h11<0.15,>=0.13 in /Users/balasubramaniamdakshinamoorthi/Library/Python/3.9/lib/python/site-packages (from httpcore==1.*->httpx<1,>=0.23.0->openai) (0.14.0)\n",
      "Requirement already satisfied: annotated-types>=0.4.0 in /Users/balasubramaniamdakshinamoorthi/Library/Python/3.9/lib/python/site-packages (from pydantic<3,>=1.9.0->openai) (0.6.0)\n",
      "Requirement already satisfied: pydantic-core==2.16.3 in /Users/balasubramaniamdakshinamoorthi/Library/Python/3.9/lib/python/site-packages (from pydantic<3,>=1.9.0->openai) (2.16.3)\n",
      "Note: you may need to restart the kernel to use updated packages.\n"
     ]
    }
   ],
   "source": [
    "pip install openai\n"
   ]
  },
  {
   "cell_type": "code",
   "execution_count": 2,
   "metadata": {},
   "outputs": [
    {
     "name": "stdout",
     "output_type": "stream",
     "text": [
      "Defaulting to user installation because normal site-packages is not writeable\n",
      "Requirement already satisfied: langchain in /Users/balasubramaniamdakshinamoorthi/Library/Python/3.9/lib/python/site-packages (0.1.14)\n",
      "Requirement already satisfied: PyYAML>=5.3 in /Users/balasubramaniamdakshinamoorthi/Library/Python/3.9/lib/python/site-packages (from langchain) (6.0.1)\n",
      "Requirement already satisfied: SQLAlchemy<3,>=1.4 in /Users/balasubramaniamdakshinamoorthi/Library/Python/3.9/lib/python/site-packages (from langchain) (2.0.29)\n",
      "Requirement already satisfied: aiohttp<4.0.0,>=3.8.3 in /Users/balasubramaniamdakshinamoorthi/Library/Python/3.9/lib/python/site-packages (from langchain) (3.9.3)\n",
      "Requirement already satisfied: async-timeout<5.0.0,>=4.0.0 in /Users/balasubramaniamdakshinamoorthi/Library/Python/3.9/lib/python/site-packages (from langchain) (4.0.3)\n",
      "Requirement already satisfied: dataclasses-json<0.7,>=0.5.7 in /Users/balasubramaniamdakshinamoorthi/Library/Python/3.9/lib/python/site-packages (from langchain) (0.6.4)\n",
      "Requirement already satisfied: jsonpatch<2.0,>=1.33 in /Users/balasubramaniamdakshinamoorthi/Library/Python/3.9/lib/python/site-packages (from langchain) (1.33)\n",
      "Requirement already satisfied: langchain-community<0.1,>=0.0.30 in /Users/balasubramaniamdakshinamoorthi/Library/Python/3.9/lib/python/site-packages (from langchain) (0.0.31)\n",
      "Requirement already satisfied: langchain-core<0.2.0,>=0.1.37 in /Users/balasubramaniamdakshinamoorthi/Library/Python/3.9/lib/python/site-packages (from langchain) (0.1.39)\n",
      "Requirement already satisfied: langchain-text-splitters<0.1,>=0.0.1 in /Users/balasubramaniamdakshinamoorthi/Library/Python/3.9/lib/python/site-packages (from langchain) (0.0.1)\n",
      "Requirement already satisfied: langsmith<0.2.0,>=0.1.17 in /Users/balasubramaniamdakshinamoorthi/Library/Python/3.9/lib/python/site-packages (from langchain) (0.1.39)\n",
      "Requirement already satisfied: numpy<2,>=1 in /Users/balasubramaniamdakshinamoorthi/Library/Python/3.9/lib/python/site-packages (from langchain) (1.26.1)\n",
      "Requirement already satisfied: pydantic<3,>=1 in /Users/balasubramaniamdakshinamoorthi/Library/Python/3.9/lib/python/site-packages (from langchain) (2.6.4)\n",
      "Requirement already satisfied: requests<3,>=2 in /Users/balasubramaniamdakshinamoorthi/Library/Python/3.9/lib/python/site-packages (from langchain) (2.31.0)\n",
      "Requirement already satisfied: tenacity<9.0.0,>=8.1.0 in /Users/balasubramaniamdakshinamoorthi/Library/Python/3.9/lib/python/site-packages (from langchain) (8.2.3)\n",
      "Requirement already satisfied: aiosignal>=1.1.2 in /Users/balasubramaniamdakshinamoorthi/Library/Python/3.9/lib/python/site-packages (from aiohttp<4.0.0,>=3.8.3->langchain) (1.3.1)\n",
      "Requirement already satisfied: attrs>=17.3.0 in /Users/balasubramaniamdakshinamoorthi/Library/Python/3.9/lib/python/site-packages (from aiohttp<4.0.0,>=3.8.3->langchain) (23.1.0)\n",
      "Requirement already satisfied: frozenlist>=1.1.1 in /Users/balasubramaniamdakshinamoorthi/Library/Python/3.9/lib/python/site-packages (from aiohttp<4.0.0,>=3.8.3->langchain) (1.4.1)\n",
      "Requirement already satisfied: multidict<7.0,>=4.5 in /Users/balasubramaniamdakshinamoorthi/Library/Python/3.9/lib/python/site-packages (from aiohttp<4.0.0,>=3.8.3->langchain) (6.0.5)\n",
      "Requirement already satisfied: yarl<2.0,>=1.0 in /Users/balasubramaniamdakshinamoorthi/Library/Python/3.9/lib/python/site-packages (from aiohttp<4.0.0,>=3.8.3->langchain) (1.9.4)\n",
      "Requirement already satisfied: marshmallow<4.0.0,>=3.18.0 in /Users/balasubramaniamdakshinamoorthi/Library/Python/3.9/lib/python/site-packages (from dataclasses-json<0.7,>=0.5.7->langchain) (3.21.1)\n",
      "Requirement already satisfied: typing-inspect<1,>=0.4.0 in /Users/balasubramaniamdakshinamoorthi/Library/Python/3.9/lib/python/site-packages (from dataclasses-json<0.7,>=0.5.7->langchain) (0.9.0)\n",
      "Requirement already satisfied: jsonpointer>=1.9 in /Users/balasubramaniamdakshinamoorthi/Library/Python/3.9/lib/python/site-packages (from jsonpatch<2.0,>=1.33->langchain) (2.4)\n",
      "Requirement already satisfied: packaging<24.0,>=23.2 in /Users/balasubramaniamdakshinamoorthi/Library/Python/3.9/lib/python/site-packages (from langchain-core<0.2.0,>=0.1.37->langchain) (23.2)\n",
      "Requirement already satisfied: orjson<4.0.0,>=3.9.14 in /Users/balasubramaniamdakshinamoorthi/Library/Python/3.9/lib/python/site-packages (from langsmith<0.2.0,>=0.1.17->langchain) (3.10.0)\n",
      "Requirement already satisfied: annotated-types>=0.4.0 in /Users/balasubramaniamdakshinamoorthi/Library/Python/3.9/lib/python/site-packages (from pydantic<3,>=1->langchain) (0.6.0)\n",
      "Requirement already satisfied: pydantic-core==2.16.3 in /Users/balasubramaniamdakshinamoorthi/Library/Python/3.9/lib/python/site-packages (from pydantic<3,>=1->langchain) (2.16.3)\n",
      "Requirement already satisfied: typing-extensions>=4.6.1 in /Users/balasubramaniamdakshinamoorthi/Library/Python/3.9/lib/python/site-packages (from pydantic<3,>=1->langchain) (4.8.0)\n",
      "Requirement already satisfied: charset-normalizer<4,>=2 in /Users/balasubramaniamdakshinamoorthi/Library/Python/3.9/lib/python/site-packages (from requests<3,>=2->langchain) (3.3.2)\n",
      "Requirement already satisfied: idna<4,>=2.5 in /Users/balasubramaniamdakshinamoorthi/Library/Python/3.9/lib/python/site-packages (from requests<3,>=2->langchain) (3.4)\n",
      "Requirement already satisfied: urllib3<3,>=1.21.1 in /Users/balasubramaniamdakshinamoorthi/Library/Python/3.9/lib/python/site-packages (from requests<3,>=2->langchain) (2.0.7)\n",
      "Requirement already satisfied: certifi>=2017.4.17 in /Users/balasubramaniamdakshinamoorthi/Library/Python/3.9/lib/python/site-packages (from requests<3,>=2->langchain) (2023.7.22)\n",
      "Requirement already satisfied: mypy-extensions>=0.3.0 in /Users/balasubramaniamdakshinamoorthi/Library/Python/3.9/lib/python/site-packages (from typing-inspect<1,>=0.4.0->dataclasses-json<0.7,>=0.5.7->langchain) (1.0.0)\n",
      "Note: you may need to restart the kernel to use updated packages.\n"
     ]
    }
   ],
   "source": [
    "pip install langchain"
   ]
  },
  {
   "cell_type": "code",
   "execution_count": 3,
   "metadata": {},
   "outputs": [],
   "source": [
    "from openai import AzureOpenAI"
   ]
  },
  {
   "cell_type": "code",
   "execution_count": 4,
   "metadata": {},
   "outputs": [
    {
     "name": "stdout",
     "output_type": "stream",
     "text": [
      "Defaulting to user installation because normal site-packages is not writeable\n",
      "Requirement already satisfied: azure-identity in /Users/balasubramaniamdakshinamoorthi/Library/Python/3.9/lib/python/site-packages (1.15.0)\n",
      "Requirement already satisfied: azure-core<2.0.0,>=1.23.0 in /Users/balasubramaniamdakshinamoorthi/Library/Python/3.9/lib/python/site-packages (from azure-identity) (1.30.1)\n",
      "Requirement already satisfied: cryptography>=2.5 in /Users/balasubramaniamdakshinamoorthi/Library/Python/3.9/lib/python/site-packages (from azure-identity) (42.0.5)\n",
      "Requirement already satisfied: msal<2.0.0,>=1.24.0 in /Users/balasubramaniamdakshinamoorthi/Library/Python/3.9/lib/python/site-packages (from azure-identity) (1.28.0)\n",
      "Requirement already satisfied: msal-extensions<2.0.0,>=0.3.0 in /Users/balasubramaniamdakshinamoorthi/Library/Python/3.9/lib/python/site-packages (from azure-identity) (1.1.0)\n",
      "Requirement already satisfied: requests>=2.21.0 in /Users/balasubramaniamdakshinamoorthi/Library/Python/3.9/lib/python/site-packages (from azure-core<2.0.0,>=1.23.0->azure-identity) (2.31.0)\n",
      "Requirement already satisfied: six>=1.11.0 in /Users/balasubramaniamdakshinamoorthi/Library/Python/3.9/lib/python/site-packages (from azure-core<2.0.0,>=1.23.0->azure-identity) (1.16.0)\n",
      "Requirement already satisfied: typing-extensions>=4.6.0 in /Users/balasubramaniamdakshinamoorthi/Library/Python/3.9/lib/python/site-packages (from azure-core<2.0.0,>=1.23.0->azure-identity) (4.8.0)\n",
      "Requirement already satisfied: cffi>=1.12 in /Users/balasubramaniamdakshinamoorthi/Library/Python/3.9/lib/python/site-packages (from cryptography>=2.5->azure-identity) (1.16.0)\n",
      "Requirement already satisfied: PyJWT<3,>=1.0.0 in /Users/balasubramaniamdakshinamoorthi/Library/Python/3.9/lib/python/site-packages (from PyJWT[crypto]<3,>=1.0.0->msal<2.0.0,>=1.24.0->azure-identity) (2.8.0)\n",
      "Requirement already satisfied: packaging in /Users/balasubramaniamdakshinamoorthi/Library/Python/3.9/lib/python/site-packages (from msal-extensions<2.0.0,>=0.3.0->azure-identity) (23.2)\n",
      "Requirement already satisfied: portalocker<3,>=1.0 in /Users/balasubramaniamdakshinamoorthi/Library/Python/3.9/lib/python/site-packages (from msal-extensions<2.0.0,>=0.3.0->azure-identity) (2.8.2)\n",
      "Requirement already satisfied: pycparser in /Users/balasubramaniamdakshinamoorthi/Library/Python/3.9/lib/python/site-packages (from cffi>=1.12->cryptography>=2.5->azure-identity) (2.21)\n",
      "Requirement already satisfied: charset-normalizer<4,>=2 in /Users/balasubramaniamdakshinamoorthi/Library/Python/3.9/lib/python/site-packages (from requests>=2.21.0->azure-core<2.0.0,>=1.23.0->azure-identity) (3.3.2)\n",
      "Requirement already satisfied: idna<4,>=2.5 in /Users/balasubramaniamdakshinamoorthi/Library/Python/3.9/lib/python/site-packages (from requests>=2.21.0->azure-core<2.0.0,>=1.23.0->azure-identity) (3.4)\n",
      "Requirement already satisfied: urllib3<3,>=1.21.1 in /Users/balasubramaniamdakshinamoorthi/Library/Python/3.9/lib/python/site-packages (from requests>=2.21.0->azure-core<2.0.0,>=1.23.0->azure-identity) (2.0.7)\n",
      "Requirement already satisfied: certifi>=2017.4.17 in /Users/balasubramaniamdakshinamoorthi/Library/Python/3.9/lib/python/site-packages (from requests>=2.21.0->azure-core<2.0.0,>=1.23.0->azure-identity) (2023.7.22)\n",
      "Note: you may need to restart the kernel to use updated packages.\n"
     ]
    }
   ],
   "source": [
    "pip install azure-identity"
   ]
  },
  {
   "cell_type": "code",
   "execution_count": 5,
   "metadata": {},
   "outputs": [
    {
     "name": "stdout",
     "output_type": "stream",
     "text": [
      "Defaulting to user installation because normal site-packages is not writeable\n",
      "Requirement already satisfied: python-dotenv in /Users/balasubramaniamdakshinamoorthi/Library/Python/3.9/lib/python/site-packages (from -r requirements.txt (line 4)) (1.0.1)\n",
      "Requirement already satisfied: pydantic in /Users/balasubramaniamdakshinamoorthi/Library/Python/3.9/lib/python/site-packages (from -r requirements.txt (line 5)) (2.6.4)\n",
      "Requirement already satisfied: altair==5.1.2 in /Users/balasubramaniamdakshinamoorthi/Library/Python/3.9/lib/python/site-packages (from -r requirements.txt (line 6)) (5.1.2)\n",
      "Requirement already satisfied: attrs==23.1.0 in /Users/balasubramaniamdakshinamoorthi/Library/Python/3.9/lib/python/site-packages (from -r requirements.txt (line 7)) (23.1.0)\n",
      "Requirement already satisfied: azure-identity in /Users/balasubramaniamdakshinamoorthi/Library/Python/3.9/lib/python/site-packages (from -r requirements.txt (line 8)) (1.15.0)\n",
      "Requirement already satisfied: azure-search-documents==11.4.0b8 in /Users/balasubramaniamdakshinamoorthi/Library/Python/3.9/lib/python/site-packages (from -r requirements.txt (line 9)) (11.4.0b8)\n",
      "Requirement already satisfied: azure-storage-blob in /Users/balasubramaniamdakshinamoorthi/Library/Python/3.9/lib/python/site-packages (from -r requirements.txt (line 10)) (12.19.1)\n",
      "Requirement already satisfied: azure-keyvault in /Users/balasubramaniamdakshinamoorthi/Library/Python/3.9/lib/python/site-packages (from -r requirements.txt (line 11)) (4.2.0)\n",
      "Requirement already satisfied: blinker==1.6.3 in /Users/balasubramaniamdakshinamoorthi/Library/Python/3.9/lib/python/site-packages (from -r requirements.txt (line 12)) (1.6.3)\n",
      "Requirement already satisfied: cachetools==5.3.2 in /Users/balasubramaniamdakshinamoorthi/Library/Python/3.9/lib/python/site-packages (from -r requirements.txt (line 13)) (5.3.2)\n",
      "Requirement already satisfied: certifi==2023.7.22 in /Users/balasubramaniamdakshinamoorthi/Library/Python/3.9/lib/python/site-packages (from -r requirements.txt (line 14)) (2023.7.22)\n",
      "Requirement already satisfied: charset-normalizer==3.3.2 in /Users/balasubramaniamdakshinamoorthi/Library/Python/3.9/lib/python/site-packages (from -r requirements.txt (line 15)) (3.3.2)\n",
      "Requirement already satisfied: click==8.1.7 in /Users/balasubramaniamdakshinamoorthi/Library/Python/3.9/lib/python/site-packages (from -r requirements.txt (line 16)) (8.1.7)\n",
      "Requirement already satisfied: colorama==0.4.6 in /Users/balasubramaniamdakshinamoorthi/Library/Python/3.9/lib/python/site-packages (from -r requirements.txt (line 17)) (0.4.6)\n",
      "Requirement already satisfied: gitdb==4.0.11 in /Users/balasubramaniamdakshinamoorthi/Library/Python/3.9/lib/python/site-packages (from -r requirements.txt (line 18)) (4.0.11)\n",
      "Requirement already satisfied: GitPython==3.1.40 in /Users/balasubramaniamdakshinamoorthi/Library/Python/3.9/lib/python/site-packages (from -r requirements.txt (line 19)) (3.1.40)\n",
      "Requirement already satisfied: idna==3.4 in /Users/balasubramaniamdakshinamoorthi/Library/Python/3.9/lib/python/site-packages (from -r requirements.txt (line 20)) (3.4)\n",
      "Requirement already satisfied: importlib-metadata==6.8.0 in /Users/balasubramaniamdakshinamoorthi/Library/Python/3.9/lib/python/site-packages (from -r requirements.txt (line 21)) (6.8.0)\n",
      "Requirement already satisfied: Jinja2==3.1.2 in /Users/balasubramaniamdakshinamoorthi/Library/Python/3.9/lib/python/site-packages (from -r requirements.txt (line 22)) (3.1.2)\n",
      "Requirement already satisfied: jsonschema==4.19.2 in /Users/balasubramaniamdakshinamoorthi/Library/Python/3.9/lib/python/site-packages (from -r requirements.txt (line 23)) (4.19.2)\n",
      "Requirement already satisfied: jsonschema-specifications==2023.7.1 in /Users/balasubramaniamdakshinamoorthi/Library/Python/3.9/lib/python/site-packages (from -r requirements.txt (line 24)) (2023.7.1)\n",
      "Requirement already satisfied: markdown-it-py==3.0.0 in /Users/balasubramaniamdakshinamoorthi/Library/Python/3.9/lib/python/site-packages (from -r requirements.txt (line 25)) (3.0.0)\n",
      "Requirement already satisfied: MarkupSafe==2.1.3 in /Users/balasubramaniamdakshinamoorthi/Library/Python/3.9/lib/python/site-packages (from -r requirements.txt (line 26)) (2.1.3)\n",
      "Requirement already satisfied: mdurl==0.1.2 in /Users/balasubramaniamdakshinamoorthi/Library/Python/3.9/lib/python/site-packages (from -r requirements.txt (line 27)) (0.1.2)\n",
      "Requirement already satisfied: numpy==1.26.1 in /Users/balasubramaniamdakshinamoorthi/Library/Python/3.9/lib/python/site-packages (from -r requirements.txt (line 28)) (1.26.1)\n",
      "Requirement already satisfied: openai==1.1.2 in /Users/balasubramaniamdakshinamoorthi/Library/Python/3.9/lib/python/site-packages (from -r requirements.txt (line 29)) (1.1.2)\n",
      "Requirement already satisfied: packaging==23.2 in /Users/balasubramaniamdakshinamoorthi/Library/Python/3.9/lib/python/site-packages (from -r requirements.txt (line 30)) (23.2)\n",
      "Requirement already satisfied: pandas==2.1.2 in /Users/balasubramaniamdakshinamoorthi/Library/Python/3.9/lib/python/site-packages (from -r requirements.txt (line 31)) (2.1.2)\n",
      "Requirement already satisfied: Pillow==10.1.0 in /Users/balasubramaniamdakshinamoorthi/Library/Python/3.9/lib/python/site-packages (from -r requirements.txt (line 32)) (10.1.0)\n",
      "Requirement already satisfied: protobuf==4.24.4 in /Users/balasubramaniamdakshinamoorthi/Library/Python/3.9/lib/python/site-packages (from -r requirements.txt (line 33)) (4.24.4)\n",
      "Requirement already satisfied: pyarrow==14.0.0 in /Users/balasubramaniamdakshinamoorthi/Library/Python/3.9/lib/python/site-packages (from -r requirements.txt (line 34)) (14.0.0)\n",
      "Requirement already satisfied: pydeck==0.8.1b0 in /Users/balasubramaniamdakshinamoorthi/Library/Python/3.9/lib/python/site-packages (from -r requirements.txt (line 35)) (0.8.1b0)\n",
      "Requirement already satisfied: Pygments==2.16.1 in /Users/balasubramaniamdakshinamoorthi/Library/Python/3.9/lib/python/site-packages (from -r requirements.txt (line 36)) (2.16.1)\n",
      "Requirement already satisfied: python-dateutil==2.8.2 in /Users/balasubramaniamdakshinamoorthi/Library/Python/3.9/lib/python/site-packages (from -r requirements.txt (line 39)) (2.8.2)\n",
      "Requirement already satisfied: pytz==2023.3.post1 in /Users/balasubramaniamdakshinamoorthi/Library/Python/3.9/lib/python/site-packages (from -r requirements.txt (line 40)) (2023.3.post1)\n",
      "Requirement already satisfied: referencing==0.30.2 in /Users/balasubramaniamdakshinamoorthi/Library/Python/3.9/lib/python/site-packages (from -r requirements.txt (line 41)) (0.30.2)\n",
      "Requirement already satisfied: requests==2.31.0 in /Users/balasubramaniamdakshinamoorthi/Library/Python/3.9/lib/python/site-packages (from -r requirements.txt (line 42)) (2.31.0)\n",
      "Requirement already satisfied: rich==13.6.0 in /Users/balasubramaniamdakshinamoorthi/Library/Python/3.9/lib/python/site-packages (from -r requirements.txt (line 43)) (13.6.0)\n",
      "Requirement already satisfied: rpds-py==0.10.6 in /Users/balasubramaniamdakshinamoorthi/Library/Python/3.9/lib/python/site-packages (from -r requirements.txt (line 44)) (0.10.6)\n",
      "Requirement already satisfied: six==1.16.0 in /Users/balasubramaniamdakshinamoorthi/Library/Python/3.9/lib/python/site-packages (from -r requirements.txt (line 45)) (1.16.0)\n",
      "Requirement already satisfied: smmap==5.0.1 in /Users/balasubramaniamdakshinamoorthi/Library/Python/3.9/lib/python/site-packages (from -r requirements.txt (line 46)) (5.0.1)\n",
      "Requirement already satisfied: streamlit==1.28.0 in /Users/balasubramaniamdakshinamoorthi/Library/Python/3.9/lib/python/site-packages (from -r requirements.txt (line 47)) (1.28.0)\n",
      "Requirement already satisfied: tenacity==8.2.3 in /Users/balasubramaniamdakshinamoorthi/Library/Python/3.9/lib/python/site-packages (from -r requirements.txt (line 48)) (8.2.3)\n",
      "Requirement already satisfied: toml==0.10.2 in /Users/balasubramaniamdakshinamoorthi/Library/Python/3.9/lib/python/site-packages (from -r requirements.txt (line 49)) (0.10.2)\n",
      "Requirement already satisfied: toolz==0.12.0 in /Users/balasubramaniamdakshinamoorthi/Library/Python/3.9/lib/python/site-packages (from -r requirements.txt (line 50)) (0.12.0)\n",
      "Requirement already satisfied: tornado==6.3.3 in /Users/balasubramaniamdakshinamoorthi/Library/Python/3.9/lib/python/site-packages (from -r requirements.txt (line 51)) (6.3.3)\n",
      "Requirement already satisfied: typing_extensions==4.8.0 in /Users/balasubramaniamdakshinamoorthi/Library/Python/3.9/lib/python/site-packages (from -r requirements.txt (line 52)) (4.8.0)\n",
      "Requirement already satisfied: tzdata==2023.3 in /Users/balasubramaniamdakshinamoorthi/Library/Python/3.9/lib/python/site-packages (from -r requirements.txt (line 53)) (2023.3)\n",
      "Requirement already satisfied: tzlocal==5.2 in /Users/balasubramaniamdakshinamoorthi/Library/Python/3.9/lib/python/site-packages (from -r requirements.txt (line 54)) (5.2)\n",
      "Requirement already satisfied: urllib3==2.0.7 in /Users/balasubramaniamdakshinamoorthi/Library/Python/3.9/lib/python/site-packages (from -r requirements.txt (line 55)) (2.0.7)\n",
      "Requirement already satisfied: validators==0.22.0 in /Users/balasubramaniamdakshinamoorthi/Library/Python/3.9/lib/python/site-packages (from -r requirements.txt (line 56)) (0.22.0)\n",
      "Requirement already satisfied: watchdog==3.0.0 in /Users/balasubramaniamdakshinamoorthi/Library/Python/3.9/lib/python/site-packages (from -r requirements.txt (line 57)) (3.0.0)\n",
      "Requirement already satisfied: zipp==3.17.0 in /Users/balasubramaniamdakshinamoorthi/Library/Python/3.9/lib/python/site-packages (from -r requirements.txt (line 58)) (3.17.0)\n",
      "Requirement already satisfied: instructor==0.3.1 in /Users/balasubramaniamdakshinamoorthi/Library/Python/3.9/lib/python/site-packages (from -r requirements.txt (line 59)) (0.3.1)\n",
      "Requirement already satisfied: langchain in /Users/balasubramaniamdakshinamoorthi/Library/Python/3.9/lib/python/site-packages (from -r requirements.txt (line 60)) (0.1.14)\n",
      "Requirement already satisfied: azure-core<2.0.0,>=1.24.0 in /Users/balasubramaniamdakshinamoorthi/Library/Python/3.9/lib/python/site-packages (from azure-search-documents==11.4.0b8->-r requirements.txt (line 9)) (1.30.1)\n",
      "Requirement already satisfied: azure-common~=1.1 in /Users/balasubramaniamdakshinamoorthi/Library/Python/3.9/lib/python/site-packages (from azure-search-documents==11.4.0b8->-r requirements.txt (line 9)) (1.1.28)\n",
      "Requirement already satisfied: isodate>=0.6.0 in /Users/balasubramaniamdakshinamoorthi/Library/Python/3.9/lib/python/site-packages (from azure-search-documents==11.4.0b8->-r requirements.txt (line 9)) (0.6.1)\n",
      "Requirement already satisfied: anyio<4,>=3.5.0 in /Users/balasubramaniamdakshinamoorthi/Library/Python/3.9/lib/python/site-packages (from openai==1.1.2->-r requirements.txt (line 29)) (3.7.1)\n",
      "Requirement already satisfied: distro<2,>=1.7.0 in /Users/balasubramaniamdakshinamoorthi/Library/Python/3.9/lib/python/site-packages (from openai==1.1.2->-r requirements.txt (line 29)) (1.9.0)\n",
      "Requirement already satisfied: httpx<1,>=0.23.0 in /Users/balasubramaniamdakshinamoorthi/Library/Python/3.9/lib/python/site-packages (from openai==1.1.2->-r requirements.txt (line 29)) (0.27.0)\n",
      "Requirement already satisfied: tqdm>4 in /Users/balasubramaniamdakshinamoorthi/Library/Python/3.9/lib/python/site-packages (from openai==1.1.2->-r requirements.txt (line 29)) (4.66.2)\n",
      "Requirement already satisfied: docstring-parser<0.16,>=0.15 in /Users/balasubramaniamdakshinamoorthi/Library/Python/3.9/lib/python/site-packages (from instructor==0.3.1->-r requirements.txt (line 59)) (0.15)\n",
      "Requirement already satisfied: typer<0.10.0,>=0.9.0 in /Users/balasubramaniamdakshinamoorthi/Library/Python/3.9/lib/python/site-packages (from instructor==0.3.1->-r requirements.txt (line 59)) (0.9.4)\n",
      "Requirement already satisfied: annotated-types>=0.4.0 in /Users/balasubramaniamdakshinamoorthi/Library/Python/3.9/lib/python/site-packages (from pydantic->-r requirements.txt (line 5)) (0.6.0)\n",
      "Requirement already satisfied: pydantic-core==2.16.3 in /Users/balasubramaniamdakshinamoorthi/Library/Python/3.9/lib/python/site-packages (from pydantic->-r requirements.txt (line 5)) (2.16.3)\n",
      "Requirement already satisfied: cryptography>=2.5 in /Users/balasubramaniamdakshinamoorthi/Library/Python/3.9/lib/python/site-packages (from azure-identity->-r requirements.txt (line 8)) (42.0.5)\n",
      "Requirement already satisfied: msal<2.0.0,>=1.24.0 in /Users/balasubramaniamdakshinamoorthi/Library/Python/3.9/lib/python/site-packages (from azure-identity->-r requirements.txt (line 8)) (1.28.0)\n",
      "Requirement already satisfied: msal-extensions<2.0.0,>=0.3.0 in /Users/balasubramaniamdakshinamoorthi/Library/Python/3.9/lib/python/site-packages (from azure-identity->-r requirements.txt (line 8)) (1.1.0)\n",
      "Requirement already satisfied: azure-keyvault-certificates~=4.4 in /Users/balasubramaniamdakshinamoorthi/Library/Python/3.9/lib/python/site-packages (from azure-keyvault->-r requirements.txt (line 11)) (4.8.0)\n",
      "Requirement already satisfied: azure-keyvault-secrets~=4.4 in /Users/balasubramaniamdakshinamoorthi/Library/Python/3.9/lib/python/site-packages (from azure-keyvault->-r requirements.txt (line 11)) (4.8.0)\n",
      "Requirement already satisfied: azure-keyvault-keys~=4.5 in /Users/balasubramaniamdakshinamoorthi/Library/Python/3.9/lib/python/site-packages (from azure-keyvault->-r requirements.txt (line 11)) (4.9.0)\n",
      "Requirement already satisfied: PyYAML>=5.3 in /Users/balasubramaniamdakshinamoorthi/Library/Python/3.9/lib/python/site-packages (from langchain->-r requirements.txt (line 60)) (6.0.1)\n",
      "Requirement already satisfied: SQLAlchemy<3,>=1.4 in /Users/balasubramaniamdakshinamoorthi/Library/Python/3.9/lib/python/site-packages (from langchain->-r requirements.txt (line 60)) (2.0.29)\n",
      "Requirement already satisfied: aiohttp<4.0.0,>=3.8.3 in /Users/balasubramaniamdakshinamoorthi/Library/Python/3.9/lib/python/site-packages (from langchain->-r requirements.txt (line 60)) (3.9.3)\n",
      "Requirement already satisfied: async-timeout<5.0.0,>=4.0.0 in /Users/balasubramaniamdakshinamoorthi/Library/Python/3.9/lib/python/site-packages (from langchain->-r requirements.txt (line 60)) (4.0.3)\n",
      "Requirement already satisfied: dataclasses-json<0.7,>=0.5.7 in /Users/balasubramaniamdakshinamoorthi/Library/Python/3.9/lib/python/site-packages (from langchain->-r requirements.txt (line 60)) (0.6.4)\n",
      "Requirement already satisfied: jsonpatch<2.0,>=1.33 in /Users/balasubramaniamdakshinamoorthi/Library/Python/3.9/lib/python/site-packages (from langchain->-r requirements.txt (line 60)) (1.33)\n",
      "Requirement already satisfied: langchain-community<0.1,>=0.0.30 in /Users/balasubramaniamdakshinamoorthi/Library/Python/3.9/lib/python/site-packages (from langchain->-r requirements.txt (line 60)) (0.0.31)\n",
      "Requirement already satisfied: langchain-core<0.2.0,>=0.1.37 in /Users/balasubramaniamdakshinamoorthi/Library/Python/3.9/lib/python/site-packages (from langchain->-r requirements.txt (line 60)) (0.1.39)\n",
      "Requirement already satisfied: langchain-text-splitters<0.1,>=0.0.1 in /Users/balasubramaniamdakshinamoorthi/Library/Python/3.9/lib/python/site-packages (from langchain->-r requirements.txt (line 60)) (0.0.1)\n",
      "Requirement already satisfied: langsmith<0.2.0,>=0.1.17 in /Users/balasubramaniamdakshinamoorthi/Library/Python/3.9/lib/python/site-packages (from langchain->-r requirements.txt (line 60)) (0.1.39)\n",
      "Requirement already satisfied: aiosignal>=1.1.2 in /Users/balasubramaniamdakshinamoorthi/Library/Python/3.9/lib/python/site-packages (from aiohttp<4.0.0,>=3.8.3->langchain->-r requirements.txt (line 60)) (1.3.1)\n",
      "Requirement already satisfied: frozenlist>=1.1.1 in /Users/balasubramaniamdakshinamoorthi/Library/Python/3.9/lib/python/site-packages (from aiohttp<4.0.0,>=3.8.3->langchain->-r requirements.txt (line 60)) (1.4.1)\n",
      "Requirement already satisfied: multidict<7.0,>=4.5 in /Users/balasubramaniamdakshinamoorthi/Library/Python/3.9/lib/python/site-packages (from aiohttp<4.0.0,>=3.8.3->langchain->-r requirements.txt (line 60)) (6.0.5)\n",
      "Requirement already satisfied: yarl<2.0,>=1.0 in /Users/balasubramaniamdakshinamoorthi/Library/Python/3.9/lib/python/site-packages (from aiohttp<4.0.0,>=3.8.3->langchain->-r requirements.txt (line 60)) (1.9.4)\n",
      "Requirement already satisfied: sniffio>=1.1 in /Users/balasubramaniamdakshinamoorthi/Library/Python/3.9/lib/python/site-packages (from anyio<4,>=3.5.0->openai==1.1.2->-r requirements.txt (line 29)) (1.3.0)\n",
      "Requirement already satisfied: exceptiongroup in /Users/balasubramaniamdakshinamoorthi/Library/Python/3.9/lib/python/site-packages (from anyio<4,>=3.5.0->openai==1.1.2->-r requirements.txt (line 29)) (1.2.0)\n",
      "Requirement already satisfied: cffi>=1.12 in /Users/balasubramaniamdakshinamoorthi/Library/Python/3.9/lib/python/site-packages (from cryptography>=2.5->azure-identity->-r requirements.txt (line 8)) (1.16.0)\n",
      "Requirement already satisfied: marshmallow<4.0.0,>=3.18.0 in /Users/balasubramaniamdakshinamoorthi/Library/Python/3.9/lib/python/site-packages (from dataclasses-json<0.7,>=0.5.7->langchain->-r requirements.txt (line 60)) (3.21.1)\n",
      "Requirement already satisfied: typing-inspect<1,>=0.4.0 in /Users/balasubramaniamdakshinamoorthi/Library/Python/3.9/lib/python/site-packages (from dataclasses-json<0.7,>=0.5.7->langchain->-r requirements.txt (line 60)) (0.9.0)\n",
      "Requirement already satisfied: httpcore==1.* in /Users/balasubramaniamdakshinamoorthi/Library/Python/3.9/lib/python/site-packages (from httpx<1,>=0.23.0->openai==1.1.2->-r requirements.txt (line 29)) (1.0.5)\n",
      "Requirement already satisfied: h11<0.15,>=0.13 in /Users/balasubramaniamdakshinamoorthi/Library/Python/3.9/lib/python/site-packages (from httpcore==1.*->httpx<1,>=0.23.0->openai==1.1.2->-r requirements.txt (line 29)) (0.14.0)\n",
      "Requirement already satisfied: jsonpointer>=1.9 in /Users/balasubramaniamdakshinamoorthi/Library/Python/3.9/lib/python/site-packages (from jsonpatch<2.0,>=1.33->langchain->-r requirements.txt (line 60)) (2.4)\n",
      "Requirement already satisfied: orjson<4.0.0,>=3.9.14 in /Users/balasubramaniamdakshinamoorthi/Library/Python/3.9/lib/python/site-packages (from langsmith<0.2.0,>=0.1.17->langchain->-r requirements.txt (line 60)) (3.10.0)\n",
      "Requirement already satisfied: PyJWT<3,>=1.0.0 in /Users/balasubramaniamdakshinamoorthi/Library/Python/3.9/lib/python/site-packages (from PyJWT[crypto]<3,>=1.0.0->msal<2.0.0,>=1.24.0->azure-identity->-r requirements.txt (line 8)) (2.8.0)\n",
      "Requirement already satisfied: portalocker<3,>=1.0 in /Users/balasubramaniamdakshinamoorthi/Library/Python/3.9/lib/python/site-packages (from msal-extensions<2.0.0,>=0.3.0->azure-identity->-r requirements.txt (line 8)) (2.8.2)\n",
      "Requirement already satisfied: pycparser in /Users/balasubramaniamdakshinamoorthi/Library/Python/3.9/lib/python/site-packages (from cffi>=1.12->cryptography>=2.5->azure-identity->-r requirements.txt (line 8)) (2.21)\n",
      "Requirement already satisfied: mypy-extensions>=0.3.0 in /Users/balasubramaniamdakshinamoorthi/Library/Python/3.9/lib/python/site-packages (from typing-inspect<1,>=0.4.0->dataclasses-json<0.7,>=0.5.7->langchain->-r requirements.txt (line 60)) (1.0.0)\n"
     ]
    }
   ],
   "source": [
    "!pip install -r requirements.txt"
   ]
  },
  {
   "cell_type": "code",
   "execution_count": 6,
   "metadata": {},
   "outputs": [
    {
     "name": "stdout",
     "output_type": "stream",
     "text": [
      "Defaulting to user installation because normal site-packages is not writeable\n",
      "Requirement already satisfied: pydantic in /Users/balasubramaniamdakshinamoorthi/Library/Python/3.9/lib/python/site-packages (2.6.4)\n",
      "Requirement already satisfied: annotated-types>=0.4.0 in /Users/balasubramaniamdakshinamoorthi/Library/Python/3.9/lib/python/site-packages (from pydantic) (0.6.0)\n",
      "Requirement already satisfied: pydantic-core==2.16.3 in /Users/balasubramaniamdakshinamoorthi/Library/Python/3.9/lib/python/site-packages (from pydantic) (2.16.3)\n",
      "Requirement already satisfied: typing-extensions>=4.6.1 in /Users/balasubramaniamdakshinamoorthi/Library/Python/3.9/lib/python/site-packages (from pydantic) (4.8.0)\n",
      "Note: you may need to restart the kernel to use updated packages.\n"
     ]
    }
   ],
   "source": [
    "pip install pydantic"
   ]
  },
  {
   "cell_type": "code",
   "execution_count": 7,
   "metadata": {},
   "outputs": [
    {
     "name": "stdout",
     "output_type": "stream",
     "text": [
      "Defaulting to user installation because normal site-packages is not writeable\n",
      "Requirement already satisfied: instructor==0.3.1 in /Users/balasubramaniamdakshinamoorthi/Library/Python/3.9/lib/python/site-packages (0.3.1)\n",
      "Requirement already satisfied: docstring-parser<0.16,>=0.15 in /Users/balasubramaniamdakshinamoorthi/Library/Python/3.9/lib/python/site-packages (from instructor==0.3.1) (0.15)\n",
      "Requirement already satisfied: openai<2.0.0,>=1.1.0 in /Users/balasubramaniamdakshinamoorthi/Library/Python/3.9/lib/python/site-packages (from instructor==0.3.1) (1.1.2)\n",
      "Requirement already satisfied: pydantic<3.0.0,>=2.0.2 in /Users/balasubramaniamdakshinamoorthi/Library/Python/3.9/lib/python/site-packages (from instructor==0.3.1) (2.6.4)\n",
      "Requirement already satisfied: typer<0.10.0,>=0.9.0 in /Users/balasubramaniamdakshinamoorthi/Library/Python/3.9/lib/python/site-packages (from instructor==0.3.1) (0.9.4)\n",
      "Requirement already satisfied: anyio<4,>=3.5.0 in /Users/balasubramaniamdakshinamoorthi/Library/Python/3.9/lib/python/site-packages (from openai<2.0.0,>=1.1.0->instructor==0.3.1) (3.7.1)\n",
      "Requirement already satisfied: distro<2,>=1.7.0 in /Users/balasubramaniamdakshinamoorthi/Library/Python/3.9/lib/python/site-packages (from openai<2.0.0,>=1.1.0->instructor==0.3.1) (1.9.0)\n",
      "Requirement already satisfied: httpx<1,>=0.23.0 in /Users/balasubramaniamdakshinamoorthi/Library/Python/3.9/lib/python/site-packages (from openai<2.0.0,>=1.1.0->instructor==0.3.1) (0.27.0)\n",
      "Requirement already satisfied: tqdm>4 in /Users/balasubramaniamdakshinamoorthi/Library/Python/3.9/lib/python/site-packages (from openai<2.0.0,>=1.1.0->instructor==0.3.1) (4.66.2)\n",
      "Requirement already satisfied: typing-extensions<5,>=4.5 in /Users/balasubramaniamdakshinamoorthi/Library/Python/3.9/lib/python/site-packages (from openai<2.0.0,>=1.1.0->instructor==0.3.1) (4.8.0)\n",
      "Requirement already satisfied: annotated-types>=0.4.0 in /Users/balasubramaniamdakshinamoorthi/Library/Python/3.9/lib/python/site-packages (from pydantic<3.0.0,>=2.0.2->instructor==0.3.1) (0.6.0)\n",
      "Requirement already satisfied: pydantic-core==2.16.3 in /Users/balasubramaniamdakshinamoorthi/Library/Python/3.9/lib/python/site-packages (from pydantic<3.0.0,>=2.0.2->instructor==0.3.1) (2.16.3)\n",
      "Requirement already satisfied: click<9.0.0,>=7.1.1 in /Users/balasubramaniamdakshinamoorthi/Library/Python/3.9/lib/python/site-packages (from typer<0.10.0,>=0.9.0->instructor==0.3.1) (8.1.7)\n",
      "Requirement already satisfied: idna>=2.8 in /Users/balasubramaniamdakshinamoorthi/Library/Python/3.9/lib/python/site-packages (from anyio<4,>=3.5.0->openai<2.0.0,>=1.1.0->instructor==0.3.1) (3.4)\n",
      "Requirement already satisfied: sniffio>=1.1 in /Users/balasubramaniamdakshinamoorthi/Library/Python/3.9/lib/python/site-packages (from anyio<4,>=3.5.0->openai<2.0.0,>=1.1.0->instructor==0.3.1) (1.3.0)\n",
      "Requirement already satisfied: exceptiongroup in /Users/balasubramaniamdakshinamoorthi/Library/Python/3.9/lib/python/site-packages (from anyio<4,>=3.5.0->openai<2.0.0,>=1.1.0->instructor==0.3.1) (1.2.0)\n",
      "Requirement already satisfied: certifi in /Users/balasubramaniamdakshinamoorthi/Library/Python/3.9/lib/python/site-packages (from httpx<1,>=0.23.0->openai<2.0.0,>=1.1.0->instructor==0.3.1) (2023.7.22)\n",
      "Requirement already satisfied: httpcore==1.* in /Users/balasubramaniamdakshinamoorthi/Library/Python/3.9/lib/python/site-packages (from httpx<1,>=0.23.0->openai<2.0.0,>=1.1.0->instructor==0.3.1) (1.0.5)\n",
      "Requirement already satisfied: h11<0.15,>=0.13 in /Users/balasubramaniamdakshinamoorthi/Library/Python/3.9/lib/python/site-packages (from httpcore==1.*->httpx<1,>=0.23.0->openai<2.0.0,>=1.1.0->instructor==0.3.1) (0.14.0)\n",
      "Note: you may need to restart the kernel to use updated packages.\n"
     ]
    }
   ],
   "source": [
    "pip install instructor==0.3.1"
   ]
  },
  {
   "cell_type": "code",
   "execution_count": null,
   "metadata": {},
   "outputs": [],
   "source": [
    "from azure.identity import ManagedIdentityCredential\n",
    "from azure.keyvault.secrets import SecretClient\n",
    " "
   ]
  },
  {
   "cell_type": "code",
   "execution_count": null,
   "metadata": {},
   "outputs": [],
   "source": [
    "VAULT_URL=\"https://bswhivekeyvault.vault.azure.net\"\n"
   ]
  },
  {
   "cell_type": "code",
   "execution_count": null,
   "metadata": {},
   "outputs": [],
   "source": [
    "\n",
    "from azure.identity import DefaultAzureCredential\n"
   ]
  },
  {
   "cell_type": "code",
   "execution_count": null,
   "metadata": {},
   "outputs": [],
   "source": [
    "\n",
    "\n",
    "# system-assigned managed identity\n",
    "cred = DefaultAzureCredential()\n",
    " \n",
    "#VAULT_URL = os.environ[\"AZURE_KEYVAULT_RESOURCEENDPOINT\"]\n",
    "secret_client = SecretClient(vault_url=VAULT_URL, credential=cred)\n",
    " \n",
    "AZURE_OPENAI_SECRET = secret_client.get_secret(\"llm-dev-02\")\n",
    "assert AZURE_OPENAI_SECRET, \"ERROR: Azure OpenAI Key is missing\"\n",
    " \n",
    "AZURE_OPENAI_ENDPOINT = \"https://llm-dev-02.openai.azure.com/\"\n",
    "AZURE_OPENAI_API_VERSION = \"2023-05-15\"\n",
    "CHAT_DEPLOYMENT_NAME =  \"gpt4-turbo-askbsw\"\n",
    "EMBEDDING_DEPLOYMENT_NAME = \"text-embedding-ada02-askbsw\"\n",
    " \n",
    "SEARCH_SERVICE_ENDPOINT = \"https://cog-askbsw-dev.search.windows.net/\"\n",
    "SEARCH_SERVICE_API_SECRET = secret_client.get_secret(\"searchserviceapikey\")\n",
    "assert SEARCH_SERVICE_API_SECRET, \"ERROR: Search Service Key is missing\"\n",
    " \n",
    "INDEX_NAME = \"askms-embeddings-index-v2\"\n",
    "TEMPERATURE = 0.01\n",
    " \n",
    "MESSAGE_BUFFER = 4\n",
    " \n",
    "VECTOR_SEARCH_SCORE_THRESHOLD = 0.81"
   ]
  },
  {
   "cell_type": "code",
   "execution_count": 8,
   "metadata": {},
   "outputs": [],
   "source": [
    "import os\n",
    "import openai\n",
    "#.api_key=openai_key"
   ]
  },
  {
   "cell_type": "code",
   "execution_count": 9,
   "metadata": {},
   "outputs": [
    {
     "name": "stderr",
     "output_type": "stream",
     "text": [
      "/Users/balasubramaniamdakshinamoorthi/Library/Python/3.9/lib/python/site-packages/urllib3/__init__.py:34: NotOpenSSLWarning: urllib3 v2.0 only supports OpenSSL 1.1.1+, currently the 'ssl' module is compiled with 'LibreSSL 2.8.3'. See: https://github.com/urllib3/urllib3/issues/3020\n",
      "  warnings.warn(\n"
     ]
    }
   ],
   "source": [
    "#from dotenv import load_dotenv\n",
    "from langchain.chat_models import AzureChatOpenAI\n",
    "from langchain.embeddings import OpenAIEmbeddings\n",
    "#load_dotenv\n"
   ]
  },
  {
   "cell_type": "code",
   "execution_count": 10,
   "metadata": {},
   "outputs": [],
   "source": [
    "\n",
    "AZURE_OPENAI_API_KEY=\"8cf7f12ce06d4dd387dcdc3e8e4594fc\""
   ]
  },
  {
   "cell_type": "code",
   "execution_count": 11,
   "metadata": {},
   "outputs": [],
   "source": [
    "AZURE_OPENAI_ENDPOINT=\"https://llm-dev-02.openai.azure.com\""
   ]
  },
  {
   "cell_type": "code",
   "execution_count": 12,
   "metadata": {},
   "outputs": [],
   "source": [
    "from pydantic import Field\n",
    "from typing import Optional\n",
    "import instructor\n",
    "import openai\n",
    "\n",
    "\n",
    "class Validator(instructor.OpenAISchema):\n",
    "    \"\"\"\n",
    "    Validate if an attribute is correct and if not,\n",
    "    return a new value with an error message\n",
    "    \"\"\"\n",
    "\n",
    "    is_valid: bool = Field(\n",
    "        default=True,\n",
    "        description=\"Whether the attribute is valid based on the requirements\",\n",
    "    )\n",
    "    reason: Optional[str] = Field(\n",
    "        default=None,\n",
    "        description=\"The error message if the attribute is not valid, otherwise None\",\n",
    "    )\n",
    "    fixed_value: Optional[str] = Field(\n",
    "        default=None,\n",
    "        description=\"If the attribute is not valid, suggest a new value for the attribute\",\n",
    "    )\n",
    "\n",
    "\n",
    "def llm_validator(\n",
    "    statement: str,\n",
    "    allow_override: bool = False,\n",
    "    engine: str = \"gpt-4\",\n",
    "    temperature: float = 0,\n",
    "):\n",
    "    \"\"\"\n",
    "    Create a validator that uses the LLM to validate an attribute\n",
    "\n",
    "    ## Usage\n",
    "\n",
    "    ```python\n",
    "    from instructor import llm_validator\n",
    "    from pydantic import BaseModel, Field, field_validator\n",
    "\n",
    "    class User(BaseModel):\n",
    "        name: str = Annotated[str, llm_validator(\"The name must be a full name all lowercase\")]\n",
    "        age: int = Field(description=\"The age of the person\")\n",
    "\n",
    "    try:\n",
    "        user = User(name=\"Jason Liu\", age=20)\n",
    "    except ValidationError as e:\n",
    "        print(e)\n",
    "    ```\n",
    "\n",
    "    ```\n",
    "    1 validation error for User\n",
    "    name\n",
    "      The name is valid but not all lowercase (type=value_error.llm_validator)\n",
    "    ```\n",
    "\n",
    "    Note that there, the error message is written by the LLM, and the error type is `value_error.llm_validator`.\n",
    "\n",
    "    Parameters:\n",
    "        statement (str): The statement to validate\n",
    "        model (str): The LLM to use for validation (default: \"gpt-3.5-turbo-0613\")\n",
    "        temperature (float): The temperature to use for the LLM (default: 0)\n",
    "    \"\"\"\n",
    "\n",
    "    def llm(v):\n",
    "        resp = openai.ChatCompletion.create(\n",
    "            functions=[Validator.openai_schema],\n",
    "            function_call={\"name\": Validator.openai_schema[\"name\"]},\n",
    "            messages=[\n",
    "                {\n",
    "                    \"role\": \"system\",\n",
    "                    \"content\": \"You are a world class validation model. Capable to determine if the following value is valid for the statement, if it is not, explain why and suggest a new value.\",\n",
    "                },\n",
    "                {\n",
    "                    \"role\": \"user\",\n",
    "                    \"content\": f\"Does `{v}` follow the rules: {statement}\",\n",
    "                },\n",
    "            ],\n",
    "            engine=engine,\n",
    "            temperature=temperature,\n",
    "        )  # type: ignore\n",
    "        resp = Validator.from_response(resp)\n",
    "\n",
    "        # If the response is  not valid, return the reason, this could be used in\n",
    "        # the future to generate a better response, via reasking mechanism.\n",
    "        assert resp.is_valid, resp.reason\n",
    "\n",
    "        if allow_override and not resp.is_valid and resp.fixed_value is not None:\n",
    "            # If the value is not valid, but we allow override, return the fixed value\n",
    "            return resp.fixed_value\n",
    "        return v\n",
    "\n",
    "    return llm\n"
   ]
  },
  {
   "cell_type": "code",
   "execution_count": null,
   "metadata": {},
   "outputs": [],
   "source": [
    "Azureopenaiclient= AzureOpenAI(\n",
    "    azure_endpoint=AZURE_OPENAI_ENDPOINT,\n",
    "    api_key=AZURE_OPENAI_API_KEY,\n",
    "    api_version=\"2023-07-01-preview\",\n",
    "    azure_deployment=\"mybswhealth\"\n",
    "    \n",
    ")"
   ]
  },
  {
   "cell_type": "code",
   "execution_count": null,
   "metadata": {},
   "outputs": [],
   "source": [
    "azureopenaipatchebswsclient = instructor.patch( AzureOpenAI(\n",
    "    azure_endpoint=AZURE_OPENAI_ENDPOINT,\n",
    "    api_key=AZURE_OPENAI_API_KEY,\n",
    "    api_version=\"2023-07-01-preview\",\n",
    "    azure_deployment=\"mybswhealth\"\n",
    "    \n",
    "))"
   ]
  },
  {
   "cell_type": "code",
   "execution_count": null,
   "metadata": {},
   "outputs": [],
   "source": [
    "import enum\n",
    "import json\n",
    "from pydantic import BaseModel"
   ]
  },
  {
   "cell_type": "code",
   "execution_count": null,
   "metadata": {},
   "outputs": [],
   "source": [
    "from typing import List\n",
    "import enum\n",
    "import json\n",
    "\n",
    "# Define Enum class for multiple labels\n",
    "class MultiLabels(str, enum.Enum):\n",
    "    NEW_SYMPTOMS=\"Experiencing new symptoms\"\n",
    "    COMPLEX_SYMPTOMS=\"Known chronic or serious health conditions,Recent or ongoing medical treatment body systems\"\n",
    "    MIGRAINE_ELIGIBILITY=\"Headache,head pain, migraines, long term sufferer of headaches\"\n",
    "    BACK_AND_NECK_ELIGIBILITY=\"Experiencing back pain or neck pain or stiffness\" \n",
    "    MEDICATION_REFILLS=\"Refills just want help booking an appointment,Have a referral\"\n",
    "    PRESCRIPTION_RENEWALS=\"prescription\"\n",
    "    ASSISTED_SCHEDULING=\"schedule\"\n",
    "    FIND_CARE=\"I need a care \"\n",
    "    SERVICES=\"I need labs, imaging, clinical testing\"\n",
    "    BILL_SUPPORT=\"my current bill\"\n",
    "    COST_ESTIMATION=\"I need to know how much cost\"\n",
    "    PRICE_SHOPPING=\"price\"\n",
    "    GENERAL_HEALTH_SYSTEM_NAVIGATION=\"hospital visiting hours\"\n",
    "    RED_FLAG=\"not any\"\n",
    "    NONE_OF_THE_ABOVE=\"none\"\n",
    "\n",
    "\n",
    "# Define the multi-class prediction model\n",
    "class MultiClassPrediction(BaseModel):\n",
    "    \"\"\"\n",
    "    Class for a multi-class label prediction.\n",
    "    \"\"\"\n",
    "\n",
    "    class_labels: List[MultiLabels]"
   ]
  },
  {
   "cell_type": "code",
   "execution_count": null,
   "metadata": {},
   "outputs": [],
   "source": [
    "from openai import OpenAI\n",
    "import instructor\n",
    "\n",
    "# Apply the patch to the OpenAI client\n",
    "# enables response_model keyword\n",
    "\n",
    "def multi_classify(data: str) -> MultiClassPrediction:\n",
    "    \"\"\"Perform multi-label classification on the input text.\"\"\"\n",
    "    return azureopenaipatchebswsclient.chat.completions.create(\n",
    "        model=\"gpt-4\",\n",
    "        response_model=MultiClassPrediction,\n",
    "        messages=[\n",
    "            {\n",
    "                \"role\": \"user\",\n",
    "                \"content\": f\"Classify the following issue: {data}\",\n",
    "            },\n",
    "        ],\n",
    "    )  # type: ignore"
   ]
  },
  {
   "cell_type": "code",
   "execution_count": null,
   "metadata": {},
   "outputs": [],
   "source": [
    "# Test multi-label classification\n",
    "issue= \"chronic .\"\n",
    "predictionissues = multi_classify(issue)\n",
    "try: \n",
    "   assert MultiLabels.NEW_SYMPTOMS in predictionissues.class_labels\n",
    "   assert MultiLabels.COMPLEX_SYMPTOMS in predictionissues.class_labels\n",
    "   assert MultiLabels.BACK_AND_NECK_ELIGIBILITY in predictionissues.class_labels\n",
    "   assert MultiLabels.MEDICATION_REFILLS in predictionissues.class_labels\n",
    "   assert MultiLabels.PRESCRIPTION_RENEWALS in predictionissues.class_labels\n",
    "   assert MultiLabels.ASSISTED_SCHEDULING in predictionissues.class_labels\n",
    "   assert MultiLabels.FIND_CARE in predictionissues.class_labels\n",
    "   assert MultiLabels.SERVICES in predictionissues.class_labels\n",
    "   assert MultiLabels.BILL_SUPPORT in predictionissues.class_labels\n",
    "   assert MultiLabels.COST_ESTIMATION in predictionissues.class_labels\n",
    "   assert MultiLabels.PRICE_SHOPPING in predictionissues.class_labels\n",
    "   assert MultiLabels.GENERAL_HEALTH_SYSTEM_NAVIGATION in predictionissues.class_labels\n",
    "   assert MultiLabels.RED_FLAG in predictionissues.class_labels\n",
    "   assert MultiLabels.NONE_OF_THE_ABOVE in predictionissues.class_labels\n",
    "# the errror_message provided by the user gets printed \n",
    "except AssertionError as messages: \n",
    "    print(messages)"
   ]
  },
  {
   "cell_type": "code",
   "execution_count": null,
   "metadata": {},
   "outputs": [],
   "source": [
    "\n",
    "print(predictionissues)"
   ]
  },
  {
   "cell_type": "code",
   "execution_count": null,
   "metadata": {},
   "outputs": [],
   "source": []
  },
  {
   "cell_type": "code",
   "execution_count": null,
   "metadata": {},
   "outputs": [],
   "source": [
    "response = Azureclient.chat.completions.create(\n",
    "    model=\"gpt-35-turbo\",\n",
    "    messages=[\n",
    "        {\"role\": \"system\", \"content\": \"You are a helpful assistant.\"},\n",
    "        {\"role\": \"user\", \"content\": \"Knock knock.\"},\n",
    "        {\"role\": \"assistant\", \"content\": \"Who's there?\"},\n",
    "        {\"role\": \"user\", \"content\": \"Orange.\"},\n",
    "    ],\n",
    "    #temperature=0,\n",
    ")\n",
    "\n",
    "print(f\"{response.choices[0].message.role}: {response.choices[0].message.content}\")\n"
   ]
  },
  {
   "cell_type": "code",
   "execution_count": null,
   "metadata": {},
   "outputs": [],
   "source": [
    "# For all possible arguments see https://platform.openai.com/docs/api-reference/chat-completions/create\n",
    "response = openAIclient.chat.completions.create(\n",
    "    model=\"gpt-3.5-turbo\",\n",
    "    messages=[\n",
    "        {\"role\": \"system\", \"content\": \"You are a helpful assistant.\"},\n",
    "        {\"role\": \"user\", \"content\": \"Knock knock.\"},\n",
    "        {\"role\": \"assistant\", \"content\": \"Who's there?\"},\n",
    "        {\"role\": \"user\", \"content\": \"Orange.\"},\n",
    "    ],\n",
    "    temperature=0,\n",
    ")\n",
    "\n",
    "print(f\"{response.choices[0].message.role}: {response.choices[0].message.content}\")\n"
   ]
  },
  {
   "cell_type": "code",
   "execution_count": null,
   "metadata": {},
   "outputs": [],
   "source": [
    "response = client.chat.completions.create(\n",
    "    model=deployment,\n",
    "    messages=[\n",
    "        {\"role\": \"system\", \"content\": \"You are a helpful assistant.\"},\n",
    "        {\"role\": \"user\", \"content\": \"Knock knock.\"},\n",
    "        {\"role\": \"assistant\", \"content\": \"Who's there?\"},\n",
    "        {\"role\": \"user\", \"content\": \"Orange.\"},\n",
    "    ],\n",
    "    temperature=0,\n",
    "    stream=True\n",
    ")\n",
    "\n",
    "for chunk in response:\n",
    "    if len(chunk.choices) > 0:\n",
    "        delta = chunk.choices[0].delta\n",
    "\n",
    "        if delta.role:\n",
    "            print(delta.role + \": \", end=\"\", flush=True)\n",
    "        if delta.content:\n",
    "            print(delta.content, end=\"\", flush=True)\n"
   ]
  },
  {
   "cell_type": "code",
   "execution_count": null,
   "metadata": {},
   "outputs": [],
   "source": [
    "import json\n",
    "\n",
    "messages = [\n",
    "    {\"role\": \"system\", \"content\": \"You are a helpful assistant.\"},\n",
    "    {\"role\": \"user\", \"content\": \"<text violating the content policy>\"}\n",
    "]\n",
    "\n",
    "try:\n",
    "    completion = client.chat.completions.create(\n",
    "        messages=messages,\n",
    "        model=deployment,\n",
    "    )\n",
    "except openai.BadRequestError as e:\n",
    "    err = json.loads(e.response.text)\n",
    "    if err[\"error\"][\"code\"] == \"content_filter\":\n",
    "        print(\"Content filter triggered!\")\n",
    "        content_filter_result = err[\"error\"][\"innererror\"][\"content_filter_result\"]\n",
    "        for category, details in content_filter_result.items():\n",
    "            print(f\"{category}:\\n filtered={details['filtered']}\\n severity={details['severity']}\")\n"
   ]
  },
  {
   "cell_type": "code",
   "execution_count": null,
   "metadata": {},
   "outputs": [],
   "source": [
    "messages = [\n",
    "    {\"role\": \"system\", \"content\": \"You are a helpful assistant.\"},\n",
    "    {\"role\": \"user\", \"content\": \"What's the biggest city in Washington?\"}\n",
    "]\n",
    "\n",
    "completion = client.chat.completions.create(\n",
    "    messages=messages,\n",
    "    model=deployment,\n",
    ")\n",
    "print(f\"Answer: {completion.choices[0].message.content}\")\n",
    "\n",
    "# prompt content filter result in \"model_extra\" for azure\n",
    "prompt_filter_result = completion.model_extra[\"prompt_filter_results\"][0][\"content_filter_results\"]\n",
    "print(\"\\nPrompt content filter results:\")\n",
    "for category, details in prompt_filter_result.items():\n",
    "    print(f\"{category}:\\n filtered={details['filtered']}\\n severity={details['severity']}\")\n",
    "\n",
    "# completion content filter result\n",
    "print(\"\\nCompletion content filter results:\")\n",
    "completion_filter_result = completion.choices[0].model_extra[\"content_filter_results\"]\n",
    "for category, details in completion_filter_result.items():\n",
    "    print(f\"{category}:\\n filtered={details['filtered']}\\n severity={details['severity']}\")"
   ]
  },
  {
   "cell_type": "code",
   "execution_count": null,
   "metadata": {},
   "outputs": [],
   "source": [
    "pip install instructor==0.3.1"
   ]
  },
  {
   "cell_type": "code",
   "execution_count": null,
   "metadata": {},
   "outputs": [],
   "source": [
    "import enum\n",
    "from pydantic import BaseModel\n",
    "\n",
    "\n",
    "class Labels(str, enum.Enum):\n",
    "    \"\"\"Enumeration for single-label text classification.\"\"\"\n",
    "\n",
    "    SPAM = \"spam\"\n",
    "    NOT_SPAM = \"not_spam\"\n",
    "\n",
    "\n",
    "class SinglePrediction(BaseModel):\n",
    "    \"\"\"\n",
    "    Class for a single class label prediction.\n",
    "    \"\"\"\n",
    "\n",
    "    class_label: Labels"
   ]
  },
  {
   "cell_type": "code",
   "execution_count": null,
   "metadata": {},
   "outputs": [],
   "source": [
    "from pydantic import Field\n",
    "from typing import Optional\n",
    "import instructor\n",
    "import openai\n",
    "\n",
    "\n",
    "class Validator(instructor.OpenAISchema):\n",
    "    \"\"\"\n",
    "    Validate if an attribute is correct and if not,\n",
    "    return a new value with an error message\n",
    "    \"\"\"\n",
    "\n",
    "    is_valid: bool = Field(\n",
    "        default=True,\n",
    "        description=\"Whether the attribute is valid based on the requirements\",\n",
    "    )\n",
    "    reason: Optional[str] = Field(\n",
    "        default=None,\n",
    "        description=\"The error message if the attribute is not valid, otherwise None\",\n",
    "    )\n",
    "    fixed_value: Optional[str] = Field(\n",
    "        default=None,\n",
    "        description=\"If the attribute is not valid, suggest a new value for the attribute\",\n",
    "    )\n",
    "\n",
    "\n",
    "def llm_validator(\n",
    "    statement: str,\n",
    "    allow_override: bool = False,\n",
    "    engine: str = \"gpt-35-turbo\",\n",
    "    temperature: float = 0,\n",
    "):\n",
    "    \"\"\"\n",
    "    Create a validator that uses the LLM to validate an attribute\n",
    "\n",
    "    ## Usage\n",
    "\n",
    "    ```python\n",
    "    from instructor import llm_validator\n",
    "    from pydantic import BaseModel, Field, field_validator\n",
    "\n",
    "    class User(BaseModel):\n",
    "        name: str = Annotated[str, llm_validator(\"The name must be a full name all lowercase\")]\n",
    "        age: int = Field(description=\"The age of the person\")\n",
    "\n",
    "    try:\n",
    "        user = User(name=\"Jason Liu\", age=20)\n",
    "    except ValidationError as e:\n",
    "        print(e)\n",
    "    ```\n",
    "\n",
    "    ```\n",
    "    1 validation error for User\n",
    "    name\n",
    "      The name is valid but not all lowercase (type=value_error.llm_validator)\n",
    "    ```\n",
    "\n",
    "    Note that there, the error message is written by the LLM, and the error type is `value_error.llm_validator`.\n",
    "\n",
    "    Parameters:\n",
    "        statement (str): The statement to validate\n",
    "        model (str): The LLM to use for validation (default: \"gpt-3.5-turbo-0613\")\n",
    "        temperature (float): The temperature to use for the LLM (default: 0)\n",
    "    \"\"\"\n",
    "\n",
    "    def llm(v):\n",
    "        resp = openai.ChatCompletion.create(\n",
    "            functions=[Validator.openai_schema],\n",
    "            function_call={\"name\": Validator.openai_schema[\"name\"]},\n",
    "            messages=[\n",
    "                {\n",
    "                    \"role\": \"system\",\n",
    "                    \"content\": \"You are a world class validation model. Capable to determine if the following value is valid for the statement, if it is not, explain why and suggest a new value.\",\n",
    "                },\n",
    "                {\n",
    "                    \"role\": \"user\",\n",
    "                    \"content\": f\"Does `{v}` follow the rules: {statement}\",\n",
    "                },\n",
    "            ],\n",
    "            engine=engine,\n",
    "            temperature=temperature,\n",
    "        )  # type: ignore\n",
    "        resp = Validator.from_response(resp)\n",
    "\n",
    "        # If the response is  not valid, return the reason, this could be used in\n",
    "        # the future to generate a better response, via reasking mechanism.\n",
    "        assert resp.is_valid, resp.reason\n",
    "\n",
    "        if allow_override and not resp.is_valid and resp.fixed_value is not None:\n",
    "            # If the value is not valid, but we allow override, return the fixed value\n",
    "            return resp.fixed_value\n",
    "        return v\n",
    "\n",
    "    return llm\n"
   ]
  },
  {
   "cell_type": "code",
   "execution_count": null,
   "metadata": {},
   "outputs": [],
   "source": [
    "pip install pydantic"
   ]
  },
  {
   "cell_type": "code",
   "execution_count": null,
   "metadata": {},
   "outputs": [],
   "source": [
    "pip install instructor==0.3.1"
   ]
  },
  {
   "cell_type": "code",
   "execution_count": null,
   "metadata": {},
   "outputs": [],
   "source": [
    "import enum\n",
    "from pydantic import BaseModel"
   ]
  },
  {
   "cell_type": "code",
   "execution_count": null,
   "metadata": {},
   "outputs": [],
   "source": [
    "from typing import List\n",
    "import enum\n",
    "\n",
    "# Define Enum class for multiple labels\n",
    "class MultiLabels(str, enum.Enum):\n",
    "    TECH_ISSUE = \"tech_issue\"\n",
    "    BILLING = \"billing\"\n",
    "    GENERAL_QUERY = \"general_query\"\n",
    "\n",
    "\n",
    "# Define the multi-class prediction model\n",
    "class MultiClassPrediction(BaseModel):\n",
    "    \"\"\"\n",
    "    Class for a multi-class label prediction.\n",
    "    \"\"\"\n",
    "\n",
    "    class_labels: List[MultiLabels]"
   ]
  },
  {
   "cell_type": "code",
   "execution_count": null,
   "metadata": {},
   "outputs": [],
   "source": [
    "from pydantic import BaseModel, ValidationError, BeforeValidator\n",
    "from typing_extensions import Annotated\n",
    "from instructor import llm_validator\n",
    "\n"
   ]
  },
  {
   "cell_type": "markdown",
   "metadata": {},
   "source": [
    "from typing import List\n",
    "import enum\n",
    "\n",
    "# Define Enum class for multiple labels\n",
    "class MultiLabels(str, enum.Enum):\n",
    "    TECH_ISSUE = \"tech_issue\"\n",
    "    BILLING = \"billing\"\n",
    "    GENERAL_QUERY = \"general_query\"\n",
    "\n",
    "\n",
    "# Define the multi-class prediction model\n",
    "class MultiClassPrediction(BaseModel):\n",
    "    \"\"\"\n",
    "    Class for a multi-class label prediction.\n",
    "    \"\"\"\n",
    "\n",
    "    class_labels: List[MultiLabels]"
   ]
  },
  {
   "cell_type": "code",
   "execution_count": null,
   "metadata": {},
   "outputs": [],
   "source": [
    "def multi_classify(data: str) -> MultiClassPrediction:\n",
    "    \"\"\"Perform multi-label classification on the input text.\"\"\"\n",
    "    return azureopenaipatchclient .chat.completions.create(\n",
    "        model=\"gpt-3.5-turbo-0613\",\n",
    "        response_model=MultiClassPrediction,\n",
    "        messages=[\n",
    "            {\n",
    "                \"role\": \"user\",\n",
    "                \"content\": f\"Classify the following support ticket: {data}\",\n",
    "            },\n",
    "        ],\n",
    "    )  # type: ignore"
   ]
  },
  {
   "cell_type": "code",
   "execution_count": null,
   "metadata": {},
   "outputs": [],
   "source": [
    "# Test multi-label classification\n",
    "ticket = \"My account is locked and I can't access my billing info.\"\n",
    "prediction = multi_classify(ticket)\n",
    "assert MultiLabels.TECH_ISSUE in prediction.class_labels\n",
    "assert MultiLabels.BILLING in prediction.class_labels"
   ]
  },
  {
   "cell_type": "code",
   "execution_count": null,
   "metadata": {},
   "outputs": [],
   "source": [
    "\n",
    "print(prediction)"
   ]
  },
  {
   "cell_type": "code",
   "execution_count": null,
   "metadata": {},
   "outputs": [],
   "source": [
    "# Test multi-label classification\n",
    "ticket = \"My bill is came abnormally high this month.\"\n",
    "prediction1 = multi_classify(ticket)\n",
    "assert MultiLabels.TECH_ISSUE in prediction.class_labels\n",
    "assert MultiLabels.BILLING in prediction.class_labels"
   ]
  },
  {
   "cell_type": "code",
   "execution_count": null,
   "metadata": {},
   "outputs": [],
   "source": [
    "print(prediction1)"
   ]
  },
  {
   "cell_type": "code",
   "execution_count": null,
   "metadata": {},
   "outputs": [],
   "source": [
    "# Example dummy function hard coded to return the same weather\n",
    "# In production, this could be your backend API or an external API\n",
    "import requests\n",
    "def get_current_weather(location):\n",
    "    \"\"\"Get the current weather in a given location\"\"\"\n",
    "\n",
    "    url = \"https://ai-weather-by-meteosource.p.rapidapi.com/find_places\"\n",
    "\n",
    "    querystring = {\"text\":location}\n",
    "\n",
    "    headers = {\n",
    "      \"X-RapidAPI-Key\": \"XXX\",\n",
    "      \"X-RapidAPI-Host\": \"XXX\"\n",
    "    }\n",
    "\n",
    "    response = requests.get(url, headers=headers, params=querystring)\n",
    "\n",
    "    print(response.json())\n",
    "  \n",
    "    return response.json()\n"
   ]
  },
  {
   "cell_type": "code",
   "execution_count": null,
   "metadata": {},
   "outputs": [],
   "source": [
    "response=get_current_weather('Bangalore')"
   ]
  },
  {
   "cell_type": "code",
   "execution_count": null,
   "metadata": {},
   "outputs": [],
   "source": [
    "response"
   ]
  },
  {
   "cell_type": "code",
   "execution_count": null,
   "metadata": {},
   "outputs": [],
   "source": [
    "functions = [\n",
    "        {\n",
    "            \"name\": \"get_current_weather\",\n",
    "            \"description\": \"Get the current weather in a given location\",\n",
    "            \"parameters\": {\n",
    "                \"type\": \"object\",\n",
    "                \"properties\": {\n",
    "                    \"location\": {\n",
    "                        \"type\": \"string\",\n",
    "                        \"description\": \"The city and state, e.g. San Francisco, CA\",\n",
    "                    },\n",
    "                    \n",
    "                },\n",
    "                \"required\": [\"location\"],\n",
    "            },\n",
    "        }\n",
    "    ]"
   ]
  },
  {
   "cell_type": "code",
   "execution_count": null,
   "metadata": {},
   "outputs": [],
   "source": [
    "functions"
   ]
  },
  {
   "cell_type": "code",
   "execution_count": null,
   "metadata": {},
   "outputs": [],
   "source": []
  },
  {
   "cell_type": "code",
   "execution_count": null,
   "metadata": {},
   "outputs": [],
   "source": [
    "print(completion.choices[0].message)"
   ]
  },
  {
   "cell_type": "code",
   "execution_count": null,
   "metadata": {},
   "outputs": [],
   "source": [
    "response=completion.choices[0].message"
   ]
  },
  {
   "cell_type": "code",
   "execution_count": null,
   "metadata": {},
   "outputs": [],
   "source": [
    "response"
   ]
  },
  {
   "cell_type": "code",
   "execution_count": null,
   "metadata": {},
   "outputs": [],
   "source": [
    "function_name=response['function_call']['name']\n",
    "print(function_name)\n"
   ]
  },
  {
   "cell_type": "code",
   "execution_count": null,
   "metadata": {},
   "outputs": [],
   "source": [
    "import json\n",
    "location=eval(response['function_call']['arguments'])['location']\n",
    "print(location)"
   ]
  },
  {
   "cell_type": "code",
   "execution_count": null,
   "metadata": {},
   "outputs": [],
   "source": [
    "# Step 4: send the info on the function call and function response to GPT\n",
    "messages.append(response)  # extend conversation with assistant's reply\n",
    "messages.append(\n",
    "    {\n",
    "        \"role\": \"function\",\n",
    "        \"name\": function_name,\n",
    "        \"content\": location,\n",
    "    }\n",
    ")"
   ]
  },
  {
   "cell_type": "code",
   "execution_count": null,
   "metadata": {},
   "outputs": [],
   "source": [
    "messages"
   ]
  },
  {
   "cell_type": "code",
   "execution_count": null,
   "metadata": {},
   "outputs": [],
   "source": [
    "# extend conversation with function response\n",
    "second_response = openai.ChatCompletion.create(\n",
    "    model=\"gpt-3.5-turbo-0613\",\n",
    "    messages=messages,\n",
    "    functions=functions\n",
    ")  # get a new response from GPT where it can see the function response\n",
    "\n"
   ]
  },
  {
   "cell_type": "code",
   "execution_count": null,
   "metadata": {},
   "outputs": [],
   "source": [
    "print(second_response.choices[0].message)"
   ]
  },
  {
   "cell_type": "code",
   "execution_count": null,
   "metadata": {},
   "outputs": [],
   "source": [
    "second_response"
   ]
  },
  {
   "cell_type": "code",
   "execution_count": null,
   "metadata": {},
   "outputs": [],
   "source": []
  }
 ],
 "metadata": {
  "kernelspec": {
   "display_name": "Python 3",
   "language": "python",
   "name": "python3"
  },
  "language_info": {
   "codemirror_mode": {
    "name": "ipython",
    "version": 3
   },
   "file_extension": ".py",
   "mimetype": "text/x-python",
   "name": "python",
   "nbconvert_exporter": "python",
   "pygments_lexer": "ipython3",
   "version": "3.9.6"
  },
  "orig_nbformat": 4
 },
 "nbformat": 4,
 "nbformat_minor": 2
}
