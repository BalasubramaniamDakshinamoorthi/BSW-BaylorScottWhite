{
 "cells": [
  {
   "attachments": {},
   "cell_type": "markdown",
   "metadata": {},
   "source": [
    "## The Power OF Function Calling using OpenAI API"
   ]
  },
  {
   "cell_type": "code",
   "execution_count": 1,
   "metadata": {},
   "outputs": [
    {
     "name": "stdout",
     "output_type": "stream",
     "text": [
      "Defaulting to user installation because normal site-packages is not writeable\n",
      "Requirement already satisfied: openai in /Users/balasubramaniamdakshinamoorthi/Library/Python/3.9/lib/python/site-packages (1.1.2)\n",
      "Requirement already satisfied: anyio<4,>=3.5.0 in /Users/balasubramaniamdakshinamoorthi/Library/Python/3.9/lib/python/site-packages (from openai) (3.7.1)\n",
      "Requirement already satisfied: distro<2,>=1.7.0 in /Users/balasubramaniamdakshinamoorthi/Library/Python/3.9/lib/python/site-packages (from openai) (1.9.0)\n",
      "Requirement already satisfied: httpx<1,>=0.23.0 in /Users/balasubramaniamdakshinamoorthi/Library/Python/3.9/lib/python/site-packages (from openai) (0.27.0)\n",
      "Requirement already satisfied: pydantic<3,>=1.9.0 in /Users/balasubramaniamdakshinamoorthi/Library/Python/3.9/lib/python/site-packages (from openai) (2.6.4)\n",
      "Requirement already satisfied: tqdm>4 in /Users/balasubramaniamdakshinamoorthi/Library/Python/3.9/lib/python/site-packages (from openai) (4.66.2)\n",
      "Requirement already satisfied: typing-extensions<5,>=4.5 in /Users/balasubramaniamdakshinamoorthi/Library/Python/3.9/lib/python/site-packages (from openai) (4.8.0)\n",
      "Requirement already satisfied: idna>=2.8 in /Users/balasubramaniamdakshinamoorthi/Library/Python/3.9/lib/python/site-packages (from anyio<4,>=3.5.0->openai) (3.4)\n",
      "Requirement already satisfied: sniffio>=1.1 in /Users/balasubramaniamdakshinamoorthi/Library/Python/3.9/lib/python/site-packages (from anyio<4,>=3.5.0->openai) (1.3.0)\n",
      "Requirement already satisfied: exceptiongroup in /Users/balasubramaniamdakshinamoorthi/Library/Python/3.9/lib/python/site-packages (from anyio<4,>=3.5.0->openai) (1.2.0)\n",
      "Requirement already satisfied: certifi in /Users/balasubramaniamdakshinamoorthi/Library/Python/3.9/lib/python/site-packages (from httpx<1,>=0.23.0->openai) (2023.7.22)\n",
      "Requirement already satisfied: httpcore==1.* in /Users/balasubramaniamdakshinamoorthi/Library/Python/3.9/lib/python/site-packages (from httpx<1,>=0.23.0->openai) (1.0.5)\n",
      "Requirement already satisfied: h11<0.15,>=0.13 in /Users/balasubramaniamdakshinamoorthi/Library/Python/3.9/lib/python/site-packages (from httpcore==1.*->httpx<1,>=0.23.0->openai) (0.14.0)\n",
      "Requirement already satisfied: annotated-types>=0.4.0 in /Users/balasubramaniamdakshinamoorthi/Library/Python/3.9/lib/python/site-packages (from pydantic<3,>=1.9.0->openai) (0.6.0)\n",
      "Requirement already satisfied: pydantic-core==2.16.3 in /Users/balasubramaniamdakshinamoorthi/Library/Python/3.9/lib/python/site-packages (from pydantic<3,>=1.9.0->openai) (2.16.3)\n",
      "Note: you may need to restart the kernel to use updated packages.\n"
     ]
    }
   ],
   "source": [
    "pip install openai\n"
   ]
  },
  {
   "cell_type": "code",
   "execution_count": 2,
   "metadata": {},
   "outputs": [
    {
     "name": "stdout",
     "output_type": "stream",
     "text": [
      "Defaulting to user installation because normal site-packages is not writeable\n",
      "Requirement already satisfied: langchain in /Users/balasubramaniamdakshinamoorthi/Library/Python/3.9/lib/python/site-packages (0.1.14)\n",
      "Requirement already satisfied: PyYAML>=5.3 in /Users/balasubramaniamdakshinamoorthi/Library/Python/3.9/lib/python/site-packages (from langchain) (6.0.1)\n",
      "Requirement already satisfied: SQLAlchemy<3,>=1.4 in /Users/balasubramaniamdakshinamoorthi/Library/Python/3.9/lib/python/site-packages (from langchain) (2.0.29)\n",
      "Requirement already satisfied: aiohttp<4.0.0,>=3.8.3 in /Users/balasubramaniamdakshinamoorthi/Library/Python/3.9/lib/python/site-packages (from langchain) (3.9.3)\n",
      "Requirement already satisfied: async-timeout<5.0.0,>=4.0.0 in /Users/balasubramaniamdakshinamoorthi/Library/Python/3.9/lib/python/site-packages (from langchain) (4.0.3)\n",
      "Requirement already satisfied: dataclasses-json<0.7,>=0.5.7 in /Users/balasubramaniamdakshinamoorthi/Library/Python/3.9/lib/python/site-packages (from langchain) (0.6.4)\n",
      "Requirement already satisfied: jsonpatch<2.0,>=1.33 in /Users/balasubramaniamdakshinamoorthi/Library/Python/3.9/lib/python/site-packages (from langchain) (1.33)\n",
      "Requirement already satisfied: langchain-community<0.1,>=0.0.30 in /Users/balasubramaniamdakshinamoorthi/Library/Python/3.9/lib/python/site-packages (from langchain) (0.0.31)\n",
      "Requirement already satisfied: langchain-core<0.2.0,>=0.1.37 in /Users/balasubramaniamdakshinamoorthi/Library/Python/3.9/lib/python/site-packages (from langchain) (0.1.39)\n",
      "Requirement already satisfied: langchain-text-splitters<0.1,>=0.0.1 in /Users/balasubramaniamdakshinamoorthi/Library/Python/3.9/lib/python/site-packages (from langchain) (0.0.1)\n",
      "Requirement already satisfied: langsmith<0.2.0,>=0.1.17 in /Users/balasubramaniamdakshinamoorthi/Library/Python/3.9/lib/python/site-packages (from langchain) (0.1.39)\n",
      "Requirement already satisfied: numpy<2,>=1 in /Users/balasubramaniamdakshinamoorthi/Library/Python/3.9/lib/python/site-packages (from langchain) (1.26.1)\n",
      "Requirement already satisfied: pydantic<3,>=1 in /Users/balasubramaniamdakshinamoorthi/Library/Python/3.9/lib/python/site-packages (from langchain) (2.6.4)\n",
      "Requirement already satisfied: requests<3,>=2 in /Users/balasubramaniamdakshinamoorthi/Library/Python/3.9/lib/python/site-packages (from langchain) (2.31.0)\n",
      "Requirement already satisfied: tenacity<9.0.0,>=8.1.0 in /Users/balasubramaniamdakshinamoorthi/Library/Python/3.9/lib/python/site-packages (from langchain) (8.2.3)\n",
      "Requirement already satisfied: aiosignal>=1.1.2 in /Users/balasubramaniamdakshinamoorthi/Library/Python/3.9/lib/python/site-packages (from aiohttp<4.0.0,>=3.8.3->langchain) (1.3.1)\n",
      "Requirement already satisfied: attrs>=17.3.0 in /Users/balasubramaniamdakshinamoorthi/Library/Python/3.9/lib/python/site-packages (from aiohttp<4.0.0,>=3.8.3->langchain) (23.1.0)\n",
      "Requirement already satisfied: frozenlist>=1.1.1 in /Users/balasubramaniamdakshinamoorthi/Library/Python/3.9/lib/python/site-packages (from aiohttp<4.0.0,>=3.8.3->langchain) (1.4.1)\n",
      "Requirement already satisfied: multidict<7.0,>=4.5 in /Users/balasubramaniamdakshinamoorthi/Library/Python/3.9/lib/python/site-packages (from aiohttp<4.0.0,>=3.8.3->langchain) (6.0.5)\n",
      "Requirement already satisfied: yarl<2.0,>=1.0 in /Users/balasubramaniamdakshinamoorthi/Library/Python/3.9/lib/python/site-packages (from aiohttp<4.0.0,>=3.8.3->langchain) (1.9.4)\n",
      "Requirement already satisfied: marshmallow<4.0.0,>=3.18.0 in /Users/balasubramaniamdakshinamoorthi/Library/Python/3.9/lib/python/site-packages (from dataclasses-json<0.7,>=0.5.7->langchain) (3.21.1)\n",
      "Requirement already satisfied: typing-inspect<1,>=0.4.0 in /Users/balasubramaniamdakshinamoorthi/Library/Python/3.9/lib/python/site-packages (from dataclasses-json<0.7,>=0.5.7->langchain) (0.9.0)\n",
      "Requirement already satisfied: jsonpointer>=1.9 in /Users/balasubramaniamdakshinamoorthi/Library/Python/3.9/lib/python/site-packages (from jsonpatch<2.0,>=1.33->langchain) (2.4)\n",
      "Requirement already satisfied: packaging<24.0,>=23.2 in /Users/balasubramaniamdakshinamoorthi/Library/Python/3.9/lib/python/site-packages (from langchain-core<0.2.0,>=0.1.37->langchain) (23.2)\n",
      "Requirement already satisfied: orjson<4.0.0,>=3.9.14 in /Users/balasubramaniamdakshinamoorthi/Library/Python/3.9/lib/python/site-packages (from langsmith<0.2.0,>=0.1.17->langchain) (3.10.0)\n",
      "Requirement already satisfied: annotated-types>=0.4.0 in /Users/balasubramaniamdakshinamoorthi/Library/Python/3.9/lib/python/site-packages (from pydantic<3,>=1->langchain) (0.6.0)\n",
      "Requirement already satisfied: pydantic-core==2.16.3 in /Users/balasubramaniamdakshinamoorthi/Library/Python/3.9/lib/python/site-packages (from pydantic<3,>=1->langchain) (2.16.3)\n",
      "Requirement already satisfied: typing-extensions>=4.6.1 in /Users/balasubramaniamdakshinamoorthi/Library/Python/3.9/lib/python/site-packages (from pydantic<3,>=1->langchain) (4.8.0)\n",
      "Requirement already satisfied: charset-normalizer<4,>=2 in /Users/balasubramaniamdakshinamoorthi/Library/Python/3.9/lib/python/site-packages (from requests<3,>=2->langchain) (3.3.2)\n",
      "Requirement already satisfied: idna<4,>=2.5 in /Users/balasubramaniamdakshinamoorthi/Library/Python/3.9/lib/python/site-packages (from requests<3,>=2->langchain) (3.4)\n",
      "Requirement already satisfied: urllib3<3,>=1.21.1 in /Users/balasubramaniamdakshinamoorthi/Library/Python/3.9/lib/python/site-packages (from requests<3,>=2->langchain) (2.0.7)\n",
      "Requirement already satisfied: certifi>=2017.4.17 in /Users/balasubramaniamdakshinamoorthi/Library/Python/3.9/lib/python/site-packages (from requests<3,>=2->langchain) (2023.7.22)\n",
      "Requirement already satisfied: mypy-extensions>=0.3.0 in /Users/balasubramaniamdakshinamoorthi/Library/Python/3.9/lib/python/site-packages (from typing-inspect<1,>=0.4.0->dataclasses-json<0.7,>=0.5.7->langchain) (1.0.0)\n",
      "Note: you may need to restart the kernel to use updated packages.\n"
     ]
    }
   ],
   "source": [
    "pip install langchain"
   ]
  },
  {
   "cell_type": "code",
   "execution_count": 3,
   "metadata": {},
   "outputs": [],
   "source": [
    "from openai import AzureOpenAI"
   ]
  },
  {
   "cell_type": "code",
   "execution_count": 4,
   "metadata": {},
   "outputs": [
    {
     "name": "stdout",
     "output_type": "stream",
     "text": [
      "Defaulting to user installation because normal site-packages is not writeable\n",
      "Requirement already satisfied: azure-identity in /Users/balasubramaniamdakshinamoorthi/Library/Python/3.9/lib/python/site-packages (1.15.0)\n",
      "Requirement already satisfied: azure-core<2.0.0,>=1.23.0 in /Users/balasubramaniamdakshinamoorthi/Library/Python/3.9/lib/python/site-packages (from azure-identity) (1.30.1)\n",
      "Requirement already satisfied: cryptography>=2.5 in /Users/balasubramaniamdakshinamoorthi/Library/Python/3.9/lib/python/site-packages (from azure-identity) (42.0.5)\n",
      "Requirement already satisfied: msal<2.0.0,>=1.24.0 in /Users/balasubramaniamdakshinamoorthi/Library/Python/3.9/lib/python/site-packages (from azure-identity) (1.28.0)\n",
      "Requirement already satisfied: msal-extensions<2.0.0,>=0.3.0 in /Users/balasubramaniamdakshinamoorthi/Library/Python/3.9/lib/python/site-packages (from azure-identity) (1.1.0)\n",
      "Requirement already satisfied: requests>=2.21.0 in /Users/balasubramaniamdakshinamoorthi/Library/Python/3.9/lib/python/site-packages (from azure-core<2.0.0,>=1.23.0->azure-identity) (2.31.0)\n",
      "Requirement already satisfied: six>=1.11.0 in /Users/balasubramaniamdakshinamoorthi/Library/Python/3.9/lib/python/site-packages (from azure-core<2.0.0,>=1.23.0->azure-identity) (1.16.0)\n",
      "Requirement already satisfied: typing-extensions>=4.6.0 in /Users/balasubramaniamdakshinamoorthi/Library/Python/3.9/lib/python/site-packages (from azure-core<2.0.0,>=1.23.0->azure-identity) (4.8.0)\n",
      "Requirement already satisfied: cffi>=1.12 in /Users/balasubramaniamdakshinamoorthi/Library/Python/3.9/lib/python/site-packages (from cryptography>=2.5->azure-identity) (1.16.0)\n",
      "Requirement already satisfied: PyJWT<3,>=1.0.0 in /Users/balasubramaniamdakshinamoorthi/Library/Python/3.9/lib/python/site-packages (from PyJWT[crypto]<3,>=1.0.0->msal<2.0.0,>=1.24.0->azure-identity) (2.8.0)\n",
      "Requirement already satisfied: packaging in /Users/balasubramaniamdakshinamoorthi/Library/Python/3.9/lib/python/site-packages (from msal-extensions<2.0.0,>=0.3.0->azure-identity) (23.2)\n",
      "Requirement already satisfied: portalocker<3,>=1.0 in /Users/balasubramaniamdakshinamoorthi/Library/Python/3.9/lib/python/site-packages (from msal-extensions<2.0.0,>=0.3.0->azure-identity) (2.8.2)\n",
      "Requirement already satisfied: pycparser in /Users/balasubramaniamdakshinamoorthi/Library/Python/3.9/lib/python/site-packages (from cffi>=1.12->cryptography>=2.5->azure-identity) (2.21)\n",
      "Requirement already satisfied: charset-normalizer<4,>=2 in /Users/balasubramaniamdakshinamoorthi/Library/Python/3.9/lib/python/site-packages (from requests>=2.21.0->azure-core<2.0.0,>=1.23.0->azure-identity) (3.3.2)\n",
      "Requirement already satisfied: idna<4,>=2.5 in /Users/balasubramaniamdakshinamoorthi/Library/Python/3.9/lib/python/site-packages (from requests>=2.21.0->azure-core<2.0.0,>=1.23.0->azure-identity) (3.4)\n",
      "Requirement already satisfied: urllib3<3,>=1.21.1 in /Users/balasubramaniamdakshinamoorthi/Library/Python/3.9/lib/python/site-packages (from requests>=2.21.0->azure-core<2.0.0,>=1.23.0->azure-identity) (2.0.7)\n",
      "Requirement already satisfied: certifi>=2017.4.17 in /Users/balasubramaniamdakshinamoorthi/Library/Python/3.9/lib/python/site-packages (from requests>=2.21.0->azure-core<2.0.0,>=1.23.0->azure-identity) (2023.7.22)\n",
      "Note: you may need to restart the kernel to use updated packages.\n"
     ]
    }
   ],
   "source": [
    "pip install azure-identity"
   ]
  },
  {
   "cell_type": "code",
   "execution_count": 5,
   "metadata": {},
   "outputs": [
    {
     "name": "stdout",
     "output_type": "stream",
     "text": [
      "Defaulting to user installation because normal site-packages is not writeable\n",
      "Requirement already satisfied: python-dotenv in /Users/balasubramaniamdakshinamoorthi/Library/Python/3.9/lib/python/site-packages (from -r requirements.txt (line 4)) (1.0.1)\n",
      "Requirement already satisfied: pydantic in /Users/balasubramaniamdakshinamoorthi/Library/Python/3.9/lib/python/site-packages (from -r requirements.txt (line 5)) (2.6.4)\n",
      "Requirement already satisfied: altair==5.1.2 in /Users/balasubramaniamdakshinamoorthi/Library/Python/3.9/lib/python/site-packages (from -r requirements.txt (line 6)) (5.1.2)\n",
      "Requirement already satisfied: attrs==23.1.0 in /Users/balasubramaniamdakshinamoorthi/Library/Python/3.9/lib/python/site-packages (from -r requirements.txt (line 7)) (23.1.0)\n",
      "Requirement already satisfied: azure-identity in /Users/balasubramaniamdakshinamoorthi/Library/Python/3.9/lib/python/site-packages (from -r requirements.txt (line 8)) (1.15.0)\n",
      "Requirement already satisfied: azure-search-documents==11.4.0b8 in /Users/balasubramaniamdakshinamoorthi/Library/Python/3.9/lib/python/site-packages (from -r requirements.txt (line 9)) (11.4.0b8)\n",
      "Requirement already satisfied: azure-storage-blob in /Users/balasubramaniamdakshinamoorthi/Library/Python/3.9/lib/python/site-packages (from -r requirements.txt (line 10)) (12.19.1)\n",
      "Requirement already satisfied: azure-keyvault in /Users/balasubramaniamdakshinamoorthi/Library/Python/3.9/lib/python/site-packages (from -r requirements.txt (line 11)) (4.2.0)\n",
      "Requirement already satisfied: blinker==1.6.3 in /Users/balasubramaniamdakshinamoorthi/Library/Python/3.9/lib/python/site-packages (from -r requirements.txt (line 12)) (1.6.3)\n",
      "Requirement already satisfied: cachetools==5.3.2 in /Users/balasubramaniamdakshinamoorthi/Library/Python/3.9/lib/python/site-packages (from -r requirements.txt (line 13)) (5.3.2)\n",
      "Requirement already satisfied: certifi==2023.7.22 in /Users/balasubramaniamdakshinamoorthi/Library/Python/3.9/lib/python/site-packages (from -r requirements.txt (line 14)) (2023.7.22)\n",
      "Requirement already satisfied: charset-normalizer==3.3.2 in /Users/balasubramaniamdakshinamoorthi/Library/Python/3.9/lib/python/site-packages (from -r requirements.txt (line 15)) (3.3.2)\n",
      "Requirement already satisfied: click==8.1.7 in /Users/balasubramaniamdakshinamoorthi/Library/Python/3.9/lib/python/site-packages (from -r requirements.txt (line 16)) (8.1.7)\n",
      "Requirement already satisfied: colorama==0.4.6 in /Users/balasubramaniamdakshinamoorthi/Library/Python/3.9/lib/python/site-packages (from -r requirements.txt (line 17)) (0.4.6)\n",
      "Requirement already satisfied: gitdb==4.0.11 in /Users/balasubramaniamdakshinamoorthi/Library/Python/3.9/lib/python/site-packages (from -r requirements.txt (line 18)) (4.0.11)\n",
      "Requirement already satisfied: GitPython==3.1.40 in /Users/balasubramaniamdakshinamoorthi/Library/Python/3.9/lib/python/site-packages (from -r requirements.txt (line 19)) (3.1.40)\n",
      "Requirement already satisfied: idna==3.4 in /Users/balasubramaniamdakshinamoorthi/Library/Python/3.9/lib/python/site-packages (from -r requirements.txt (line 20)) (3.4)\n",
      "Requirement already satisfied: importlib-metadata==6.8.0 in /Users/balasubramaniamdakshinamoorthi/Library/Python/3.9/lib/python/site-packages (from -r requirements.txt (line 21)) (6.8.0)\n",
      "Requirement already satisfied: Jinja2==3.1.2 in /Users/balasubramaniamdakshinamoorthi/Library/Python/3.9/lib/python/site-packages (from -r requirements.txt (line 22)) (3.1.2)\n",
      "Requirement already satisfied: jsonschema==4.19.2 in /Users/balasubramaniamdakshinamoorthi/Library/Python/3.9/lib/python/site-packages (from -r requirements.txt (line 23)) (4.19.2)\n",
      "Requirement already satisfied: jsonschema-specifications==2023.7.1 in /Users/balasubramaniamdakshinamoorthi/Library/Python/3.9/lib/python/site-packages (from -r requirements.txt (line 24)) (2023.7.1)\n",
      "Requirement already satisfied: markdown-it-py==3.0.0 in /Users/balasubramaniamdakshinamoorthi/Library/Python/3.9/lib/python/site-packages (from -r requirements.txt (line 25)) (3.0.0)\n",
      "Requirement already satisfied: MarkupSafe==2.1.3 in /Users/balasubramaniamdakshinamoorthi/Library/Python/3.9/lib/python/site-packages (from -r requirements.txt (line 26)) (2.1.3)\n",
      "Requirement already satisfied: mdurl==0.1.2 in /Users/balasubramaniamdakshinamoorthi/Library/Python/3.9/lib/python/site-packages (from -r requirements.txt (line 27)) (0.1.2)\n",
      "Requirement already satisfied: numpy==1.26.1 in /Users/balasubramaniamdakshinamoorthi/Library/Python/3.9/lib/python/site-packages (from -r requirements.txt (line 28)) (1.26.1)\n",
      "Requirement already satisfied: openai==1.1.2 in /Users/balasubramaniamdakshinamoorthi/Library/Python/3.9/lib/python/site-packages (from -r requirements.txt (line 29)) (1.1.2)\n",
      "Requirement already satisfied: packaging==23.2 in /Users/balasubramaniamdakshinamoorthi/Library/Python/3.9/lib/python/site-packages (from -r requirements.txt (line 30)) (23.2)\n",
      "Requirement already satisfied: pandas==2.1.2 in /Users/balasubramaniamdakshinamoorthi/Library/Python/3.9/lib/python/site-packages (from -r requirements.txt (line 31)) (2.1.2)\n",
      "Requirement already satisfied: Pillow==10.1.0 in /Users/balasubramaniamdakshinamoorthi/Library/Python/3.9/lib/python/site-packages (from -r requirements.txt (line 32)) (10.1.0)\n",
      "Requirement already satisfied: protobuf==4.24.4 in /Users/balasubramaniamdakshinamoorthi/Library/Python/3.9/lib/python/site-packages (from -r requirements.txt (line 33)) (4.24.4)\n",
      "Requirement already satisfied: pyarrow==14.0.0 in /Users/balasubramaniamdakshinamoorthi/Library/Python/3.9/lib/python/site-packages (from -r requirements.txt (line 34)) (14.0.0)\n",
      "Requirement already satisfied: pydeck==0.8.1b0 in /Users/balasubramaniamdakshinamoorthi/Library/Python/3.9/lib/python/site-packages (from -r requirements.txt (line 35)) (0.8.1b0)\n",
      "Requirement already satisfied: Pygments==2.16.1 in /Users/balasubramaniamdakshinamoorthi/Library/Python/3.9/lib/python/site-packages (from -r requirements.txt (line 36)) (2.16.1)\n",
      "Requirement already satisfied: python-dateutil==2.8.2 in /Users/balasubramaniamdakshinamoorthi/Library/Python/3.9/lib/python/site-packages (from -r requirements.txt (line 39)) (2.8.2)\n",
      "Requirement already satisfied: pytz==2023.3.post1 in /Users/balasubramaniamdakshinamoorthi/Library/Python/3.9/lib/python/site-packages (from -r requirements.txt (line 40)) (2023.3.post1)\n",
      "Requirement already satisfied: referencing==0.30.2 in /Users/balasubramaniamdakshinamoorthi/Library/Python/3.9/lib/python/site-packages (from -r requirements.txt (line 41)) (0.30.2)\n",
      "Requirement already satisfied: requests==2.31.0 in /Users/balasubramaniamdakshinamoorthi/Library/Python/3.9/lib/python/site-packages (from -r requirements.txt (line 42)) (2.31.0)\n",
      "Requirement already satisfied: rich==13.6.0 in /Users/balasubramaniamdakshinamoorthi/Library/Python/3.9/lib/python/site-packages (from -r requirements.txt (line 43)) (13.6.0)\n",
      "Requirement already satisfied: rpds-py==0.10.6 in /Users/balasubramaniamdakshinamoorthi/Library/Python/3.9/lib/python/site-packages (from -r requirements.txt (line 44)) (0.10.6)\n",
      "Requirement already satisfied: six==1.16.0 in /Users/balasubramaniamdakshinamoorthi/Library/Python/3.9/lib/python/site-packages (from -r requirements.txt (line 45)) (1.16.0)\n",
      "Requirement already satisfied: smmap==5.0.1 in /Users/balasubramaniamdakshinamoorthi/Library/Python/3.9/lib/python/site-packages (from -r requirements.txt (line 46)) (5.0.1)\n",
      "Requirement already satisfied: streamlit==1.28.0 in /Users/balasubramaniamdakshinamoorthi/Library/Python/3.9/lib/python/site-packages (from -r requirements.txt (line 47)) (1.28.0)\n",
      "Requirement already satisfied: tenacity==8.2.3 in /Users/balasubramaniamdakshinamoorthi/Library/Python/3.9/lib/python/site-packages (from -r requirements.txt (line 48)) (8.2.3)\n",
      "Requirement already satisfied: toml==0.10.2 in /Users/balasubramaniamdakshinamoorthi/Library/Python/3.9/lib/python/site-packages (from -r requirements.txt (line 49)) (0.10.2)\n",
      "Requirement already satisfied: toolz==0.12.0 in /Users/balasubramaniamdakshinamoorthi/Library/Python/3.9/lib/python/site-packages (from -r requirements.txt (line 50)) (0.12.0)\n",
      "Requirement already satisfied: tornado==6.3.3 in /Users/balasubramaniamdakshinamoorthi/Library/Python/3.9/lib/python/site-packages (from -r requirements.txt (line 51)) (6.3.3)\n",
      "Requirement already satisfied: typing_extensions==4.8.0 in /Users/balasubramaniamdakshinamoorthi/Library/Python/3.9/lib/python/site-packages (from -r requirements.txt (line 52)) (4.8.0)\n",
      "Requirement already satisfied: tzdata==2023.3 in /Users/balasubramaniamdakshinamoorthi/Library/Python/3.9/lib/python/site-packages (from -r requirements.txt (line 53)) (2023.3)\n",
      "Requirement already satisfied: tzlocal==5.2 in /Users/balasubramaniamdakshinamoorthi/Library/Python/3.9/lib/python/site-packages (from -r requirements.txt (line 54)) (5.2)\n",
      "Requirement already satisfied: urllib3==2.0.7 in /Users/balasubramaniamdakshinamoorthi/Library/Python/3.9/lib/python/site-packages (from -r requirements.txt (line 55)) (2.0.7)\n",
      "Requirement already satisfied: validators==0.22.0 in /Users/balasubramaniamdakshinamoorthi/Library/Python/3.9/lib/python/site-packages (from -r requirements.txt (line 56)) (0.22.0)\n",
      "Requirement already satisfied: watchdog==3.0.0 in /Users/balasubramaniamdakshinamoorthi/Library/Python/3.9/lib/python/site-packages (from -r requirements.txt (line 57)) (3.0.0)\n",
      "Requirement already satisfied: zipp==3.17.0 in /Users/balasubramaniamdakshinamoorthi/Library/Python/3.9/lib/python/site-packages (from -r requirements.txt (line 58)) (3.17.0)\n",
      "Requirement already satisfied: instructor==0.3.1 in /Users/balasubramaniamdakshinamoorthi/Library/Python/3.9/lib/python/site-packages (from -r requirements.txt (line 59)) (0.3.1)\n",
      "Requirement already satisfied: langchain in /Users/balasubramaniamdakshinamoorthi/Library/Python/3.9/lib/python/site-packages (from -r requirements.txt (line 60)) (0.1.14)\n",
      "Requirement already satisfied: azure-core<2.0.0,>=1.24.0 in /Users/balasubramaniamdakshinamoorthi/Library/Python/3.9/lib/python/site-packages (from azure-search-documents==11.4.0b8->-r requirements.txt (line 9)) (1.30.1)\n",
      "Requirement already satisfied: azure-common~=1.1 in /Users/balasubramaniamdakshinamoorthi/Library/Python/3.9/lib/python/site-packages (from azure-search-documents==11.4.0b8->-r requirements.txt (line 9)) (1.1.28)\n",
      "Requirement already satisfied: isodate>=0.6.0 in /Users/balasubramaniamdakshinamoorthi/Library/Python/3.9/lib/python/site-packages (from azure-search-documents==11.4.0b8->-r requirements.txt (line 9)) (0.6.1)\n",
      "Requirement already satisfied: anyio<4,>=3.5.0 in /Users/balasubramaniamdakshinamoorthi/Library/Python/3.9/lib/python/site-packages (from openai==1.1.2->-r requirements.txt (line 29)) (3.7.1)\n",
      "Requirement already satisfied: distro<2,>=1.7.0 in /Users/balasubramaniamdakshinamoorthi/Library/Python/3.9/lib/python/site-packages (from openai==1.1.2->-r requirements.txt (line 29)) (1.9.0)\n",
      "Requirement already satisfied: httpx<1,>=0.23.0 in /Users/balasubramaniamdakshinamoorthi/Library/Python/3.9/lib/python/site-packages (from openai==1.1.2->-r requirements.txt (line 29)) (0.27.0)\n",
      "Requirement already satisfied: tqdm>4 in /Users/balasubramaniamdakshinamoorthi/Library/Python/3.9/lib/python/site-packages (from openai==1.1.2->-r requirements.txt (line 29)) (4.66.2)\n",
      "Requirement already satisfied: docstring-parser<0.16,>=0.15 in /Users/balasubramaniamdakshinamoorthi/Library/Python/3.9/lib/python/site-packages (from instructor==0.3.1->-r requirements.txt (line 59)) (0.15)\n",
      "Requirement already satisfied: typer<0.10.0,>=0.9.0 in /Users/balasubramaniamdakshinamoorthi/Library/Python/3.9/lib/python/site-packages (from instructor==0.3.1->-r requirements.txt (line 59)) (0.9.4)\n",
      "Requirement already satisfied: annotated-types>=0.4.0 in /Users/balasubramaniamdakshinamoorthi/Library/Python/3.9/lib/python/site-packages (from pydantic->-r requirements.txt (line 5)) (0.6.0)\n",
      "Requirement already satisfied: pydantic-core==2.16.3 in /Users/balasubramaniamdakshinamoorthi/Library/Python/3.9/lib/python/site-packages (from pydantic->-r requirements.txt (line 5)) (2.16.3)\n",
      "Requirement already satisfied: cryptography>=2.5 in /Users/balasubramaniamdakshinamoorthi/Library/Python/3.9/lib/python/site-packages (from azure-identity->-r requirements.txt (line 8)) (42.0.5)\n",
      "Requirement already satisfied: msal<2.0.0,>=1.24.0 in /Users/balasubramaniamdakshinamoorthi/Library/Python/3.9/lib/python/site-packages (from azure-identity->-r requirements.txt (line 8)) (1.28.0)\n",
      "Requirement already satisfied: msal-extensions<2.0.0,>=0.3.0 in /Users/balasubramaniamdakshinamoorthi/Library/Python/3.9/lib/python/site-packages (from azure-identity->-r requirements.txt (line 8)) (1.1.0)\n",
      "Requirement already satisfied: azure-keyvault-certificates~=4.4 in /Users/balasubramaniamdakshinamoorthi/Library/Python/3.9/lib/python/site-packages (from azure-keyvault->-r requirements.txt (line 11)) (4.8.0)\n",
      "Requirement already satisfied: azure-keyvault-secrets~=4.4 in /Users/balasubramaniamdakshinamoorthi/Library/Python/3.9/lib/python/site-packages (from azure-keyvault->-r requirements.txt (line 11)) (4.8.0)\n",
      "Requirement already satisfied: azure-keyvault-keys~=4.5 in /Users/balasubramaniamdakshinamoorthi/Library/Python/3.9/lib/python/site-packages (from azure-keyvault->-r requirements.txt (line 11)) (4.9.0)\n",
      "Requirement already satisfied: PyYAML>=5.3 in /Users/balasubramaniamdakshinamoorthi/Library/Python/3.9/lib/python/site-packages (from langchain->-r requirements.txt (line 60)) (6.0.1)\n",
      "Requirement already satisfied: SQLAlchemy<3,>=1.4 in /Users/balasubramaniamdakshinamoorthi/Library/Python/3.9/lib/python/site-packages (from langchain->-r requirements.txt (line 60)) (2.0.29)\n",
      "Requirement already satisfied: aiohttp<4.0.0,>=3.8.3 in /Users/balasubramaniamdakshinamoorthi/Library/Python/3.9/lib/python/site-packages (from langchain->-r requirements.txt (line 60)) (3.9.3)\n",
      "Requirement already satisfied: async-timeout<5.0.0,>=4.0.0 in /Users/balasubramaniamdakshinamoorthi/Library/Python/3.9/lib/python/site-packages (from langchain->-r requirements.txt (line 60)) (4.0.3)\n",
      "Requirement already satisfied: dataclasses-json<0.7,>=0.5.7 in /Users/balasubramaniamdakshinamoorthi/Library/Python/3.9/lib/python/site-packages (from langchain->-r requirements.txt (line 60)) (0.6.4)\n",
      "Requirement already satisfied: jsonpatch<2.0,>=1.33 in /Users/balasubramaniamdakshinamoorthi/Library/Python/3.9/lib/python/site-packages (from langchain->-r requirements.txt (line 60)) (1.33)\n",
      "Requirement already satisfied: langchain-community<0.1,>=0.0.30 in /Users/balasubramaniamdakshinamoorthi/Library/Python/3.9/lib/python/site-packages (from langchain->-r requirements.txt (line 60)) (0.0.31)\n",
      "Requirement already satisfied: langchain-core<0.2.0,>=0.1.37 in /Users/balasubramaniamdakshinamoorthi/Library/Python/3.9/lib/python/site-packages (from langchain->-r requirements.txt (line 60)) (0.1.39)\n",
      "Requirement already satisfied: langchain-text-splitters<0.1,>=0.0.1 in /Users/balasubramaniamdakshinamoorthi/Library/Python/3.9/lib/python/site-packages (from langchain->-r requirements.txt (line 60)) (0.0.1)\n",
      "Requirement already satisfied: langsmith<0.2.0,>=0.1.17 in /Users/balasubramaniamdakshinamoorthi/Library/Python/3.9/lib/python/site-packages (from langchain->-r requirements.txt (line 60)) (0.1.39)\n",
      "Requirement already satisfied: aiosignal>=1.1.2 in /Users/balasubramaniamdakshinamoorthi/Library/Python/3.9/lib/python/site-packages (from aiohttp<4.0.0,>=3.8.3->langchain->-r requirements.txt (line 60)) (1.3.1)\n",
      "Requirement already satisfied: frozenlist>=1.1.1 in /Users/balasubramaniamdakshinamoorthi/Library/Python/3.9/lib/python/site-packages (from aiohttp<4.0.0,>=3.8.3->langchain->-r requirements.txt (line 60)) (1.4.1)\n",
      "Requirement already satisfied: multidict<7.0,>=4.5 in /Users/balasubramaniamdakshinamoorthi/Library/Python/3.9/lib/python/site-packages (from aiohttp<4.0.0,>=3.8.3->langchain->-r requirements.txt (line 60)) (6.0.5)\n",
      "Requirement already satisfied: yarl<2.0,>=1.0 in /Users/balasubramaniamdakshinamoorthi/Library/Python/3.9/lib/python/site-packages (from aiohttp<4.0.0,>=3.8.3->langchain->-r requirements.txt (line 60)) (1.9.4)\n",
      "Requirement already satisfied: sniffio>=1.1 in /Users/balasubramaniamdakshinamoorthi/Library/Python/3.9/lib/python/site-packages (from anyio<4,>=3.5.0->openai==1.1.2->-r requirements.txt (line 29)) (1.3.0)\n",
      "Requirement already satisfied: exceptiongroup in /Users/balasubramaniamdakshinamoorthi/Library/Python/3.9/lib/python/site-packages (from anyio<4,>=3.5.0->openai==1.1.2->-r requirements.txt (line 29)) (1.2.0)\n",
      "Requirement already satisfied: cffi>=1.12 in /Users/balasubramaniamdakshinamoorthi/Library/Python/3.9/lib/python/site-packages (from cryptography>=2.5->azure-identity->-r requirements.txt (line 8)) (1.16.0)\n",
      "Requirement already satisfied: marshmallow<4.0.0,>=3.18.0 in /Users/balasubramaniamdakshinamoorthi/Library/Python/3.9/lib/python/site-packages (from dataclasses-json<0.7,>=0.5.7->langchain->-r requirements.txt (line 60)) (3.21.1)\n",
      "Requirement already satisfied: typing-inspect<1,>=0.4.0 in /Users/balasubramaniamdakshinamoorthi/Library/Python/3.9/lib/python/site-packages (from dataclasses-json<0.7,>=0.5.7->langchain->-r requirements.txt (line 60)) (0.9.0)\n",
      "Requirement already satisfied: httpcore==1.* in /Users/balasubramaniamdakshinamoorthi/Library/Python/3.9/lib/python/site-packages (from httpx<1,>=0.23.0->openai==1.1.2->-r requirements.txt (line 29)) (1.0.5)\n",
      "Requirement already satisfied: h11<0.15,>=0.13 in /Users/balasubramaniamdakshinamoorthi/Library/Python/3.9/lib/python/site-packages (from httpcore==1.*->httpx<1,>=0.23.0->openai==1.1.2->-r requirements.txt (line 29)) (0.14.0)\n",
      "Requirement already satisfied: jsonpointer>=1.9 in /Users/balasubramaniamdakshinamoorthi/Library/Python/3.9/lib/python/site-packages (from jsonpatch<2.0,>=1.33->langchain->-r requirements.txt (line 60)) (2.4)\n",
      "Requirement already satisfied: orjson<4.0.0,>=3.9.14 in /Users/balasubramaniamdakshinamoorthi/Library/Python/3.9/lib/python/site-packages (from langsmith<0.2.0,>=0.1.17->langchain->-r requirements.txt (line 60)) (3.10.0)\n",
      "Requirement already satisfied: PyJWT<3,>=1.0.0 in /Users/balasubramaniamdakshinamoorthi/Library/Python/3.9/lib/python/site-packages (from PyJWT[crypto]<3,>=1.0.0->msal<2.0.0,>=1.24.0->azure-identity->-r requirements.txt (line 8)) (2.8.0)\n",
      "Requirement already satisfied: portalocker<3,>=1.0 in /Users/balasubramaniamdakshinamoorthi/Library/Python/3.9/lib/python/site-packages (from msal-extensions<2.0.0,>=0.3.0->azure-identity->-r requirements.txt (line 8)) (2.8.2)\n",
      "Requirement already satisfied: pycparser in /Users/balasubramaniamdakshinamoorthi/Library/Python/3.9/lib/python/site-packages (from cffi>=1.12->cryptography>=2.5->azure-identity->-r requirements.txt (line 8)) (2.21)\n",
      "Requirement already satisfied: mypy-extensions>=0.3.0 in /Users/balasubramaniamdakshinamoorthi/Library/Python/3.9/lib/python/site-packages (from typing-inspect<1,>=0.4.0->dataclasses-json<0.7,>=0.5.7->langchain->-r requirements.txt (line 60)) (1.0.0)\n"
     ]
    }
   ],
   "source": [
    "!pip install -r requirements.txt"
   ]
  },
  {
   "cell_type": "code",
   "execution_count": 16,
   "metadata": {},
   "outputs": [
    {
     "name": "stdout",
     "output_type": "stream",
     "text": [
      "Defaulting to user installation because normal site-packages is not writeable\n",
      "Requirement already satisfied: pydantic in /Users/balasubramaniamdakshinamoorthi/Library/Python/3.9/lib/python/site-packages (2.6.4)\n",
      "Requirement already satisfied: annotated-types>=0.4.0 in /Users/balasubramaniamdakshinamoorthi/Library/Python/3.9/lib/python/site-packages (from pydantic) (0.6.0)\n",
      "Requirement already satisfied: pydantic-core==2.16.3 in /Users/balasubramaniamdakshinamoorthi/Library/Python/3.9/lib/python/site-packages (from pydantic) (2.16.3)\n",
      "Requirement already satisfied: typing-extensions>=4.6.1 in /Users/balasubramaniamdakshinamoorthi/Library/Python/3.9/lib/python/site-packages (from pydantic) (4.8.0)\n",
      "Note: you may need to restart the kernel to use updated packages.\n"
     ]
    }
   ],
   "source": [
    "pip install pydantic"
   ]
  },
  {
   "cell_type": "code",
   "execution_count": 19,
   "metadata": {},
   "outputs": [
    {
     "name": "stdout",
     "output_type": "stream",
     "text": [
      "Defaulting to user installation because normal site-packages is not writeable\n",
      "Requirement already satisfied: instructor==0.3.1 in /Users/balasubramaniamdakshinamoorthi/Library/Python/3.9/lib/python/site-packages (0.3.1)\n",
      "Requirement already satisfied: docstring-parser<0.16,>=0.15 in /Users/balasubramaniamdakshinamoorthi/Library/Python/3.9/lib/python/site-packages (from instructor==0.3.1) (0.15)\n",
      "Requirement already satisfied: openai<2.0.0,>=1.1.0 in /Users/balasubramaniamdakshinamoorthi/Library/Python/3.9/lib/python/site-packages (from instructor==0.3.1) (1.1.2)\n",
      "Requirement already satisfied: pydantic<3.0.0,>=2.0.2 in /Users/balasubramaniamdakshinamoorthi/Library/Python/3.9/lib/python/site-packages (from instructor==0.3.1) (2.6.4)\n",
      "Requirement already satisfied: typer<0.10.0,>=0.9.0 in /Users/balasubramaniamdakshinamoorthi/Library/Python/3.9/lib/python/site-packages (from instructor==0.3.1) (0.9.4)\n",
      "Requirement already satisfied: anyio<4,>=3.5.0 in /Users/balasubramaniamdakshinamoorthi/Library/Python/3.9/lib/python/site-packages (from openai<2.0.0,>=1.1.0->instructor==0.3.1) (3.7.1)\n",
      "Requirement already satisfied: distro<2,>=1.7.0 in /Users/balasubramaniamdakshinamoorthi/Library/Python/3.9/lib/python/site-packages (from openai<2.0.0,>=1.1.0->instructor==0.3.1) (1.9.0)\n",
      "Requirement already satisfied: httpx<1,>=0.23.0 in /Users/balasubramaniamdakshinamoorthi/Library/Python/3.9/lib/python/site-packages (from openai<2.0.0,>=1.1.0->instructor==0.3.1) (0.27.0)\n",
      "Requirement already satisfied: tqdm>4 in /Users/balasubramaniamdakshinamoorthi/Library/Python/3.9/lib/python/site-packages (from openai<2.0.0,>=1.1.0->instructor==0.3.1) (4.66.2)\n",
      "Requirement already satisfied: typing-extensions<5,>=4.5 in /Users/balasubramaniamdakshinamoorthi/Library/Python/3.9/lib/python/site-packages (from openai<2.0.0,>=1.1.0->instructor==0.3.1) (4.8.0)\n",
      "Requirement already satisfied: annotated-types>=0.4.0 in /Users/balasubramaniamdakshinamoorthi/Library/Python/3.9/lib/python/site-packages (from pydantic<3.0.0,>=2.0.2->instructor==0.3.1) (0.6.0)\n",
      "Requirement already satisfied: pydantic-core==2.16.3 in /Users/balasubramaniamdakshinamoorthi/Library/Python/3.9/lib/python/site-packages (from pydantic<3.0.0,>=2.0.2->instructor==0.3.1) (2.16.3)\n",
      "Requirement already satisfied: click<9.0.0,>=7.1.1 in /Users/balasubramaniamdakshinamoorthi/Library/Python/3.9/lib/python/site-packages (from typer<0.10.0,>=0.9.0->instructor==0.3.1) (8.1.7)\n",
      "Requirement already satisfied: idna>=2.8 in /Users/balasubramaniamdakshinamoorthi/Library/Python/3.9/lib/python/site-packages (from anyio<4,>=3.5.0->openai<2.0.0,>=1.1.0->instructor==0.3.1) (3.4)\n",
      "Requirement already satisfied: sniffio>=1.1 in /Users/balasubramaniamdakshinamoorthi/Library/Python/3.9/lib/python/site-packages (from anyio<4,>=3.5.0->openai<2.0.0,>=1.1.0->instructor==0.3.1) (1.3.0)\n",
      "Requirement already satisfied: exceptiongroup in /Users/balasubramaniamdakshinamoorthi/Library/Python/3.9/lib/python/site-packages (from anyio<4,>=3.5.0->openai<2.0.0,>=1.1.0->instructor==0.3.1) (1.2.0)\n",
      "Requirement already satisfied: certifi in /Users/balasubramaniamdakshinamoorthi/Library/Python/3.9/lib/python/site-packages (from httpx<1,>=0.23.0->openai<2.0.0,>=1.1.0->instructor==0.3.1) (2023.7.22)\n",
      "Requirement already satisfied: httpcore==1.* in /Users/balasubramaniamdakshinamoorthi/Library/Python/3.9/lib/python/site-packages (from httpx<1,>=0.23.0->openai<2.0.0,>=1.1.0->instructor==0.3.1) (1.0.5)\n",
      "Requirement already satisfied: h11<0.15,>=0.13 in /Users/balasubramaniamdakshinamoorthi/Library/Python/3.9/lib/python/site-packages (from httpcore==1.*->httpx<1,>=0.23.0->openai<2.0.0,>=1.1.0->instructor==0.3.1) (0.14.0)\n",
      "Note: you may need to restart the kernel to use updated packages.\n"
     ]
    }
   ],
   "source": [
    "pip install instructor==0.3.1"
   ]
  },
  {
   "cell_type": "code",
   "execution_count": 6,
   "metadata": {},
   "outputs": [],
   "source": [
    "from azure.identity import ManagedIdentityCredential\n",
    "from azure.keyvault.secrets import SecretClient\n",
    " "
   ]
  },
  {
   "cell_type": "code",
   "execution_count": 7,
   "metadata": {},
   "outputs": [],
   "source": [
    "VAULT_URL=\"https://bswhivekeyvault.vault.azure.net\"\n"
   ]
  },
  {
   "cell_type": "code",
   "execution_count": 8,
   "metadata": {},
   "outputs": [],
   "source": [
    "\n",
    "from azure.identity import DefaultAzureCredential\n"
   ]
  },
  {
   "cell_type": "code",
   "execution_count": 9,
   "metadata": {},
   "outputs": [
    {
     "name": "stderr",
     "output_type": "stream",
     "text": [
      "/Users/balasubramaniamdakshinamoorthi/Library/Python/3.9/lib/python/site-packages/urllib3/__init__.py:34: NotOpenSSLWarning: urllib3 v2.0 only supports OpenSSL 1.1.1+, currently the 'ssl' module is compiled with 'LibreSSL 2.8.3'. See: https://github.com/urllib3/urllib3/issues/3020\n",
      "  warnings.warn(\n",
      "DefaultAzureCredential failed to retrieve a token from the included credentials.\n",
      "Attempted credentials:\n",
      "\tEnvironmentCredential: EnvironmentCredential authentication unavailable. Environment variables are not fully configured.\n",
      "Visit https://aka.ms/azsdk/python/identity/environmentcredential/troubleshoot to troubleshoot this issue.\n",
      "\tManagedIdentityCredential: ManagedIdentityCredential authentication unavailable, no response from the IMDS endpoint.\n",
      "\tSharedTokenCacheCredential: SharedTokenCacheCredential authentication unavailable. No accounts were found in the cache.\n",
      "\tAzureCliCredential: Azure CLI not found on path\n",
      "\tAzurePowerShellCredential: PowerShell is not installed\n",
      "\tAzureDeveloperCliCredential: Azure Developer CLI could not be found. Please visit https://aka.ms/azure-dev for installation instructions and then,once installed, authenticate to your Azure account using 'azd auth login'.\n",
      "To mitigate this issue, please refer to the troubleshooting guidelines here at https://aka.ms/azsdk/python/identity/defaultazurecredential/troubleshoot.\n"
     ]
    },
    {
     "ename": "ClientAuthenticationError",
     "evalue": "DefaultAzureCredential failed to retrieve a token from the included credentials.\nAttempted credentials:\n\tEnvironmentCredential: EnvironmentCredential authentication unavailable. Environment variables are not fully configured.\nVisit https://aka.ms/azsdk/python/identity/environmentcredential/troubleshoot to troubleshoot this issue.\n\tManagedIdentityCredential: ManagedIdentityCredential authentication unavailable, no response from the IMDS endpoint.\n\tSharedTokenCacheCredential: SharedTokenCacheCredential authentication unavailable. No accounts were found in the cache.\n\tAzureCliCredential: Azure CLI not found on path\n\tAzurePowerShellCredential: PowerShell is not installed\n\tAzureDeveloperCliCredential: Azure Developer CLI could not be found. Please visit https://aka.ms/azure-dev for installation instructions and then,once installed, authenticate to your Azure account using 'azd auth login'.\nTo mitigate this issue, please refer to the troubleshooting guidelines here at https://aka.ms/azsdk/python/identity/defaultazurecredential/troubleshoot.",
     "output_type": "error",
     "traceback": [
      "\u001b[0;31m---------------------------------------------------------------------------\u001b[0m",
      "\u001b[0;31mClientAuthenticationError\u001b[0m                 Traceback (most recent call last)",
      "Cell \u001b[0;32mIn[9], line 7\u001b[0m\n\u001b[1;32m      4\u001b[0m \u001b[38;5;66;03m#VAULT_URL = os.environ[\"AZURE_KEYVAULT_RESOURCEENDPOINT\"]\u001b[39;00m\n\u001b[1;32m      5\u001b[0m secret_client \u001b[38;5;241m=\u001b[39m SecretClient(vault_url\u001b[38;5;241m=\u001b[39mVAULT_URL, credential\u001b[38;5;241m=\u001b[39mcred)\n\u001b[0;32m----> 7\u001b[0m AZURE_OPENAI_SECRET \u001b[38;5;241m=\u001b[39m \u001b[43msecret_client\u001b[49m\u001b[38;5;241;43m.\u001b[39;49m\u001b[43mget_secret\u001b[49m\u001b[43m(\u001b[49m\u001b[38;5;124;43m\"\u001b[39;49m\u001b[38;5;124;43mllm-dev-02\u001b[39;49m\u001b[38;5;124;43m\"\u001b[39;49m\u001b[43m)\u001b[49m\n\u001b[1;32m      8\u001b[0m \u001b[38;5;28;01massert\u001b[39;00m AZURE_OPENAI_SECRET, \u001b[38;5;124m\"\u001b[39m\u001b[38;5;124mERROR: Azure OpenAI Key is missing\u001b[39m\u001b[38;5;124m\"\u001b[39m\n\u001b[1;32m     10\u001b[0m AZURE_OPENAI_ENDPOINT \u001b[38;5;241m=\u001b[39m \u001b[38;5;124m\"\u001b[39m\u001b[38;5;124mhttps://llm-dev-02.openai.azure.com/\u001b[39m\u001b[38;5;124m\"\u001b[39m\n",
      "File \u001b[0;32m~/Library/Python/3.9/lib/python/site-packages/azure/core/tracing/decorator.py:78\u001b[0m, in \u001b[0;36mdistributed_trace.<locals>.decorator.<locals>.wrapper_use_tracer\u001b[0;34m(*args, **kwargs)\u001b[0m\n\u001b[1;32m     76\u001b[0m span_impl_type \u001b[38;5;241m=\u001b[39m settings\u001b[38;5;241m.\u001b[39mtracing_implementation()\n\u001b[1;32m     77\u001b[0m \u001b[38;5;28;01mif\u001b[39;00m span_impl_type \u001b[38;5;129;01mis\u001b[39;00m \u001b[38;5;28;01mNone\u001b[39;00m:\n\u001b[0;32m---> 78\u001b[0m     \u001b[38;5;28;01mreturn\u001b[39;00m \u001b[43mfunc\u001b[49m\u001b[43m(\u001b[49m\u001b[38;5;241;43m*\u001b[39;49m\u001b[43margs\u001b[49m\u001b[43m,\u001b[49m\u001b[43m \u001b[49m\u001b[38;5;241;43m*\u001b[39;49m\u001b[38;5;241;43m*\u001b[39;49m\u001b[43mkwargs\u001b[49m\u001b[43m)\u001b[49m\n\u001b[1;32m     80\u001b[0m \u001b[38;5;66;03m# Merge span is parameter is set, but only if no explicit parent are passed\u001b[39;00m\n\u001b[1;32m     81\u001b[0m \u001b[38;5;28;01mif\u001b[39;00m merge_span \u001b[38;5;129;01mand\u001b[39;00m \u001b[38;5;129;01mnot\u001b[39;00m passed_in_parent:\n",
      "File \u001b[0;32m~/Library/Python/3.9/lib/python/site-packages/azure/keyvault/secrets/_client.py:64\u001b[0m, in \u001b[0;36mSecretClient.get_secret\u001b[0;34m(self, name, version, **kwargs)\u001b[0m\n\u001b[1;32m     43\u001b[0m \u001b[38;5;129m@distributed_trace\u001b[39m\n\u001b[1;32m     44\u001b[0m \u001b[38;5;28;01mdef\u001b[39;00m \u001b[38;5;21mget_secret\u001b[39m(\u001b[38;5;28mself\u001b[39m, name: \u001b[38;5;28mstr\u001b[39m, version: Optional[\u001b[38;5;28mstr\u001b[39m] \u001b[38;5;241m=\u001b[39m \u001b[38;5;28;01mNone\u001b[39;00m, \u001b[38;5;241m*\u001b[39m\u001b[38;5;241m*\u001b[39mkwargs: Any) \u001b[38;5;241m-\u001b[39m\u001b[38;5;241m>\u001b[39m KeyVaultSecret:\n\u001b[1;32m     45\u001b[0m \u001b[38;5;250m    \u001b[39m\u001b[38;5;124;03m\"\"\"Get a secret. Requires the secrets/get permission.\u001b[39;00m\n\u001b[1;32m     46\u001b[0m \n\u001b[1;32m     47\u001b[0m \u001b[38;5;124;03m    :param str name: The name of the secret\u001b[39;00m\n\u001b[0;32m   (...)\u001b[0m\n\u001b[1;32m     62\u001b[0m \u001b[38;5;124;03m            :dedent: 8\u001b[39;00m\n\u001b[1;32m     63\u001b[0m \u001b[38;5;124;03m    \"\"\"\u001b[39;00m\n\u001b[0;32m---> 64\u001b[0m     bundle \u001b[38;5;241m=\u001b[39m \u001b[38;5;28;43mself\u001b[39;49m\u001b[38;5;241;43m.\u001b[39;49m\u001b[43m_client\u001b[49m\u001b[38;5;241;43m.\u001b[39;49m\u001b[43mget_secret\u001b[49m\u001b[43m(\u001b[49m\n\u001b[1;32m     65\u001b[0m \u001b[43m        \u001b[49m\u001b[43mvault_base_url\u001b[49m\u001b[38;5;241;43m=\u001b[39;49m\u001b[38;5;28;43mself\u001b[39;49m\u001b[38;5;241;43m.\u001b[39;49m\u001b[43m_vault_url\u001b[49m\u001b[43m,\u001b[49m\n\u001b[1;32m     66\u001b[0m \u001b[43m        \u001b[49m\u001b[43msecret_name\u001b[49m\u001b[38;5;241;43m=\u001b[39;49m\u001b[43mname\u001b[49m\u001b[43m,\u001b[49m\n\u001b[1;32m     67\u001b[0m \u001b[43m        \u001b[49m\u001b[43msecret_version\u001b[49m\u001b[38;5;241;43m=\u001b[39;49m\u001b[43mversion\u001b[49m\u001b[43m \u001b[49m\u001b[38;5;129;43;01mor\u001b[39;49;00m\u001b[43m \u001b[49m\u001b[38;5;124;43m\"\u001b[39;49m\u001b[38;5;124;43m\"\u001b[39;49m\u001b[43m,\u001b[49m\n\u001b[1;32m     68\u001b[0m \u001b[43m        \u001b[49m\u001b[38;5;241;43m*\u001b[39;49m\u001b[38;5;241;43m*\u001b[39;49m\u001b[43mkwargs\u001b[49m\n\u001b[1;32m     69\u001b[0m \u001b[43m    \u001b[49m\u001b[43m)\u001b[49m\n\u001b[1;32m     70\u001b[0m     \u001b[38;5;28;01mreturn\u001b[39;00m KeyVaultSecret\u001b[38;5;241m.\u001b[39m_from_secret_bundle(bundle)\n",
      "File \u001b[0;32m~/Library/Python/3.9/lib/python/site-packages/azure/core/tracing/decorator.py:78\u001b[0m, in \u001b[0;36mdistributed_trace.<locals>.decorator.<locals>.wrapper_use_tracer\u001b[0;34m(*args, **kwargs)\u001b[0m\n\u001b[1;32m     76\u001b[0m span_impl_type \u001b[38;5;241m=\u001b[39m settings\u001b[38;5;241m.\u001b[39mtracing_implementation()\n\u001b[1;32m     77\u001b[0m \u001b[38;5;28;01mif\u001b[39;00m span_impl_type \u001b[38;5;129;01mis\u001b[39;00m \u001b[38;5;28;01mNone\u001b[39;00m:\n\u001b[0;32m---> 78\u001b[0m     \u001b[38;5;28;01mreturn\u001b[39;00m \u001b[43mfunc\u001b[49m\u001b[43m(\u001b[49m\u001b[38;5;241;43m*\u001b[39;49m\u001b[43margs\u001b[49m\u001b[43m,\u001b[49m\u001b[43m \u001b[49m\u001b[38;5;241;43m*\u001b[39;49m\u001b[38;5;241;43m*\u001b[39;49m\u001b[43mkwargs\u001b[49m\u001b[43m)\u001b[49m\n\u001b[1;32m     80\u001b[0m \u001b[38;5;66;03m# Merge span is parameter is set, but only if no explicit parent are passed\u001b[39;00m\n\u001b[1;32m     81\u001b[0m \u001b[38;5;28;01mif\u001b[39;00m merge_span \u001b[38;5;129;01mand\u001b[39;00m \u001b[38;5;129;01mnot\u001b[39;00m passed_in_parent:\n",
      "File \u001b[0;32m~/Library/Python/3.9/lib/python/site-packages/azure/keyvault/secrets/_generated/_operations/_operations.py:751\u001b[0m, in \u001b[0;36mKeyVaultClientOperationsMixin.get_secret\u001b[0;34m(self, vault_base_url, secret_name, secret_version, **kwargs)\u001b[0m\n\u001b[1;32m    748\u001b[0m _request\u001b[38;5;241m.\u001b[39murl \u001b[38;5;241m=\u001b[39m \u001b[38;5;28mself\u001b[39m\u001b[38;5;241m.\u001b[39m_client\u001b[38;5;241m.\u001b[39mformat_url(_request\u001b[38;5;241m.\u001b[39murl, \u001b[38;5;241m*\u001b[39m\u001b[38;5;241m*\u001b[39mpath_format_arguments)\n\u001b[1;32m    750\u001b[0m _stream \u001b[38;5;241m=\u001b[39m \u001b[38;5;28;01mFalse\u001b[39;00m\n\u001b[0;32m--> 751\u001b[0m pipeline_response: PipelineResponse \u001b[38;5;241m=\u001b[39m \u001b[38;5;28;43mself\u001b[39;49m\u001b[38;5;241;43m.\u001b[39;49m\u001b[43m_client\u001b[49m\u001b[38;5;241;43m.\u001b[39;49m\u001b[43m_pipeline\u001b[49m\u001b[38;5;241;43m.\u001b[39;49m\u001b[43mrun\u001b[49m\u001b[43m(\u001b[49m\u001b[43m  \u001b[49m\u001b[38;5;66;43;03m# pylint: disable=protected-access\u001b[39;49;00m\n\u001b[1;32m    752\u001b[0m \u001b[43m    \u001b[49m\u001b[43m_request\u001b[49m\u001b[43m,\u001b[49m\u001b[43m \u001b[49m\u001b[43mstream\u001b[49m\u001b[38;5;241;43m=\u001b[39;49m\u001b[43m_stream\u001b[49m\u001b[43m,\u001b[49m\u001b[43m \u001b[49m\u001b[38;5;241;43m*\u001b[39;49m\u001b[38;5;241;43m*\u001b[39;49m\u001b[43mkwargs\u001b[49m\n\u001b[1;32m    753\u001b[0m \u001b[43m\u001b[49m\u001b[43m)\u001b[49m\n\u001b[1;32m    755\u001b[0m response \u001b[38;5;241m=\u001b[39m pipeline_response\u001b[38;5;241m.\u001b[39mhttp_response\n\u001b[1;32m    757\u001b[0m \u001b[38;5;28;01mif\u001b[39;00m response\u001b[38;5;241m.\u001b[39mstatus_code \u001b[38;5;129;01mnot\u001b[39;00m \u001b[38;5;129;01min\u001b[39;00m [\u001b[38;5;241m200\u001b[39m]:\n",
      "File \u001b[0;32m~/Library/Python/3.9/lib/python/site-packages/azure/core/pipeline/_base.py:230\u001b[0m, in \u001b[0;36mPipeline.run\u001b[0;34m(self, request, **kwargs)\u001b[0m\n\u001b[1;32m    228\u001b[0m pipeline_request: PipelineRequest[HTTPRequestType] \u001b[38;5;241m=\u001b[39m PipelineRequest(request, context)\n\u001b[1;32m    229\u001b[0m first_node \u001b[38;5;241m=\u001b[39m \u001b[38;5;28mself\u001b[39m\u001b[38;5;241m.\u001b[39m_impl_policies[\u001b[38;5;241m0\u001b[39m] \u001b[38;5;28;01mif\u001b[39;00m \u001b[38;5;28mself\u001b[39m\u001b[38;5;241m.\u001b[39m_impl_policies \u001b[38;5;28;01melse\u001b[39;00m _TransportRunner(\u001b[38;5;28mself\u001b[39m\u001b[38;5;241m.\u001b[39m_transport)\n\u001b[0;32m--> 230\u001b[0m \u001b[38;5;28;01mreturn\u001b[39;00m \u001b[43mfirst_node\u001b[49m\u001b[38;5;241;43m.\u001b[39;49m\u001b[43msend\u001b[49m\u001b[43m(\u001b[49m\u001b[43mpipeline_request\u001b[49m\u001b[43m)\u001b[49m\n",
      "File \u001b[0;32m~/Library/Python/3.9/lib/python/site-packages/azure/core/pipeline/_base.py:86\u001b[0m, in \u001b[0;36m_SansIOHTTPPolicyRunner.send\u001b[0;34m(self, request)\u001b[0m\n\u001b[1;32m     84\u001b[0m _await_result(\u001b[38;5;28mself\u001b[39m\u001b[38;5;241m.\u001b[39m_policy\u001b[38;5;241m.\u001b[39mon_request, request)\n\u001b[1;32m     85\u001b[0m \u001b[38;5;28;01mtry\u001b[39;00m:\n\u001b[0;32m---> 86\u001b[0m     response \u001b[38;5;241m=\u001b[39m \u001b[38;5;28;43mself\u001b[39;49m\u001b[38;5;241;43m.\u001b[39;49m\u001b[43mnext\u001b[49m\u001b[38;5;241;43m.\u001b[39;49m\u001b[43msend\u001b[49m\u001b[43m(\u001b[49m\u001b[43mrequest\u001b[49m\u001b[43m)\u001b[49m\n\u001b[1;32m     87\u001b[0m \u001b[38;5;28;01mexcept\u001b[39;00m \u001b[38;5;167;01mException\u001b[39;00m:  \u001b[38;5;66;03m# pylint: disable=broad-except\u001b[39;00m\n\u001b[1;32m     88\u001b[0m     _await_result(\u001b[38;5;28mself\u001b[39m\u001b[38;5;241m.\u001b[39m_policy\u001b[38;5;241m.\u001b[39mon_exception, request)\n",
      "File \u001b[0;32m~/Library/Python/3.9/lib/python/site-packages/azure/core/pipeline/_base.py:86\u001b[0m, in \u001b[0;36m_SansIOHTTPPolicyRunner.send\u001b[0;34m(self, request)\u001b[0m\n\u001b[1;32m     84\u001b[0m _await_result(\u001b[38;5;28mself\u001b[39m\u001b[38;5;241m.\u001b[39m_policy\u001b[38;5;241m.\u001b[39mon_request, request)\n\u001b[1;32m     85\u001b[0m \u001b[38;5;28;01mtry\u001b[39;00m:\n\u001b[0;32m---> 86\u001b[0m     response \u001b[38;5;241m=\u001b[39m \u001b[38;5;28;43mself\u001b[39;49m\u001b[38;5;241;43m.\u001b[39;49m\u001b[43mnext\u001b[49m\u001b[38;5;241;43m.\u001b[39;49m\u001b[43msend\u001b[49m\u001b[43m(\u001b[49m\u001b[43mrequest\u001b[49m\u001b[43m)\u001b[49m\n\u001b[1;32m     87\u001b[0m \u001b[38;5;28;01mexcept\u001b[39;00m \u001b[38;5;167;01mException\u001b[39;00m:  \u001b[38;5;66;03m# pylint: disable=broad-except\u001b[39;00m\n\u001b[1;32m     88\u001b[0m     _await_result(\u001b[38;5;28mself\u001b[39m\u001b[38;5;241m.\u001b[39m_policy\u001b[38;5;241m.\u001b[39mon_exception, request)\n",
      "    \u001b[0;31m[... skipping similar frames: _SansIOHTTPPolicyRunner.send at line 86 (2 times)]\u001b[0m\n",
      "File \u001b[0;32m~/Library/Python/3.9/lib/python/site-packages/azure/core/pipeline/_base.py:86\u001b[0m, in \u001b[0;36m_SansIOHTTPPolicyRunner.send\u001b[0;34m(self, request)\u001b[0m\n\u001b[1;32m     84\u001b[0m _await_result(\u001b[38;5;28mself\u001b[39m\u001b[38;5;241m.\u001b[39m_policy\u001b[38;5;241m.\u001b[39mon_request, request)\n\u001b[1;32m     85\u001b[0m \u001b[38;5;28;01mtry\u001b[39;00m:\n\u001b[0;32m---> 86\u001b[0m     response \u001b[38;5;241m=\u001b[39m \u001b[38;5;28;43mself\u001b[39;49m\u001b[38;5;241;43m.\u001b[39;49m\u001b[43mnext\u001b[49m\u001b[38;5;241;43m.\u001b[39;49m\u001b[43msend\u001b[49m\u001b[43m(\u001b[49m\u001b[43mrequest\u001b[49m\u001b[43m)\u001b[49m\n\u001b[1;32m     87\u001b[0m \u001b[38;5;28;01mexcept\u001b[39;00m \u001b[38;5;167;01mException\u001b[39;00m:  \u001b[38;5;66;03m# pylint: disable=broad-except\u001b[39;00m\n\u001b[1;32m     88\u001b[0m     _await_result(\u001b[38;5;28mself\u001b[39m\u001b[38;5;241m.\u001b[39m_policy\u001b[38;5;241m.\u001b[39mon_exception, request)\n",
      "File \u001b[0;32m~/Library/Python/3.9/lib/python/site-packages/azure/core/pipeline/policies/_redirect.py:197\u001b[0m, in \u001b[0;36mRedirectPolicy.send\u001b[0;34m(self, request)\u001b[0m\n\u001b[1;32m    195\u001b[0m original_domain \u001b[38;5;241m=\u001b[39m get_domain(request\u001b[38;5;241m.\u001b[39mhttp_request\u001b[38;5;241m.\u001b[39murl) \u001b[38;5;28;01mif\u001b[39;00m redirect_settings[\u001b[38;5;124m\"\u001b[39m\u001b[38;5;124mallow\u001b[39m\u001b[38;5;124m\"\u001b[39m] \u001b[38;5;28;01melse\u001b[39;00m \u001b[38;5;28;01mNone\u001b[39;00m\n\u001b[1;32m    196\u001b[0m \u001b[38;5;28;01mwhile\u001b[39;00m retryable:\n\u001b[0;32m--> 197\u001b[0m     response \u001b[38;5;241m=\u001b[39m \u001b[38;5;28;43mself\u001b[39;49m\u001b[38;5;241;43m.\u001b[39;49m\u001b[43mnext\u001b[49m\u001b[38;5;241;43m.\u001b[39;49m\u001b[43msend\u001b[49m\u001b[43m(\u001b[49m\u001b[43mrequest\u001b[49m\u001b[43m)\u001b[49m\n\u001b[1;32m    198\u001b[0m     redirect_location \u001b[38;5;241m=\u001b[39m \u001b[38;5;28mself\u001b[39m\u001b[38;5;241m.\u001b[39mget_redirect_location(response)\n\u001b[1;32m    199\u001b[0m     \u001b[38;5;28;01mif\u001b[39;00m redirect_location \u001b[38;5;129;01mand\u001b[39;00m redirect_settings[\u001b[38;5;124m\"\u001b[39m\u001b[38;5;124mallow\u001b[39m\u001b[38;5;124m\"\u001b[39m]:\n",
      "File \u001b[0;32m~/Library/Python/3.9/lib/python/site-packages/azure/core/pipeline/policies/_retry.py:531\u001b[0m, in \u001b[0;36mRetryPolicy.send\u001b[0;34m(self, request)\u001b[0m\n\u001b[1;32m    529\u001b[0m \u001b[38;5;28;01mtry\u001b[39;00m:\n\u001b[1;32m    530\u001b[0m     \u001b[38;5;28mself\u001b[39m\u001b[38;5;241m.\u001b[39m_configure_timeout(request, absolute_timeout, is_response_error)\n\u001b[0;32m--> 531\u001b[0m     response \u001b[38;5;241m=\u001b[39m \u001b[38;5;28;43mself\u001b[39;49m\u001b[38;5;241;43m.\u001b[39;49m\u001b[43mnext\u001b[49m\u001b[38;5;241;43m.\u001b[39;49m\u001b[43msend\u001b[49m\u001b[43m(\u001b[49m\u001b[43mrequest\u001b[49m\u001b[43m)\u001b[49m\n\u001b[1;32m    532\u001b[0m     \u001b[38;5;28;01mif\u001b[39;00m \u001b[38;5;28mself\u001b[39m\u001b[38;5;241m.\u001b[39mis_retry(retry_settings, response):\n\u001b[1;32m    533\u001b[0m         retry_active \u001b[38;5;241m=\u001b[39m \u001b[38;5;28mself\u001b[39m\u001b[38;5;241m.\u001b[39mincrement(retry_settings, response\u001b[38;5;241m=\u001b[39mresponse)\n",
      "File \u001b[0;32m~/Library/Python/3.9/lib/python/site-packages/azure/core/pipeline/policies/_authentication.py:135\u001b[0m, in \u001b[0;36mBearerTokenCredentialPolicy.send\u001b[0;34m(self, request)\u001b[0m\n\u001b[1;32m    133\u001b[0m \u001b[38;5;28mself\u001b[39m\u001b[38;5;241m.\u001b[39m_token \u001b[38;5;241m=\u001b[39m \u001b[38;5;28;01mNone\u001b[39;00m  \u001b[38;5;66;03m# any cached token is invalid\u001b[39;00m\n\u001b[1;32m    134\u001b[0m \u001b[38;5;28;01mif\u001b[39;00m \u001b[38;5;124m\"\u001b[39m\u001b[38;5;124mWWW-Authenticate\u001b[39m\u001b[38;5;124m\"\u001b[39m \u001b[38;5;129;01min\u001b[39;00m response\u001b[38;5;241m.\u001b[39mhttp_response\u001b[38;5;241m.\u001b[39mheaders:\n\u001b[0;32m--> 135\u001b[0m     request_authorized \u001b[38;5;241m=\u001b[39m \u001b[38;5;28;43mself\u001b[39;49m\u001b[38;5;241;43m.\u001b[39;49m\u001b[43mon_challenge\u001b[49m\u001b[43m(\u001b[49m\u001b[43mrequest\u001b[49m\u001b[43m,\u001b[49m\u001b[43m \u001b[49m\u001b[43mresponse\u001b[49m\u001b[43m)\u001b[49m\n\u001b[1;32m    136\u001b[0m     \u001b[38;5;28;01mif\u001b[39;00m request_authorized:\n\u001b[1;32m    137\u001b[0m         \u001b[38;5;66;03m# if we receive a challenge response, we retrieve a new token\u001b[39;00m\n\u001b[1;32m    138\u001b[0m         \u001b[38;5;66;03m# which matches the new target. In this case, we don't want to remove\u001b[39;00m\n\u001b[1;32m    139\u001b[0m         \u001b[38;5;66;03m# token from the request so clear the 'insecure_domain_change' tag\u001b[39;00m\n\u001b[1;32m    140\u001b[0m         request\u001b[38;5;241m.\u001b[39mcontext\u001b[38;5;241m.\u001b[39moptions\u001b[38;5;241m.\u001b[39mpop(\u001b[38;5;124m\"\u001b[39m\u001b[38;5;124minsecure_domain_change\u001b[39m\u001b[38;5;124m\"\u001b[39m, \u001b[38;5;28;01mFalse\u001b[39;00m)\n",
      "File \u001b[0;32m~/Library/Python/3.9/lib/python/site-packages/azure/keyvault/secrets/_shared/challenge_auth_policy.py:137\u001b[0m, in \u001b[0;36mChallengeAuthPolicy.on_challenge\u001b[0;34m(self, request, response)\u001b[0m\n\u001b[1;32m    135\u001b[0m     \u001b[38;5;28mself\u001b[39m\u001b[38;5;241m.\u001b[39mauthorize_request(request, scope)\n\u001b[1;32m    136\u001b[0m \u001b[38;5;28;01melse\u001b[39;00m:\n\u001b[0;32m--> 137\u001b[0m     \u001b[38;5;28;43mself\u001b[39;49m\u001b[38;5;241;43m.\u001b[39;49m\u001b[43mauthorize_request\u001b[49m\u001b[43m(\u001b[49m\u001b[43mrequest\u001b[49m\u001b[43m,\u001b[49m\u001b[43m \u001b[49m\u001b[43mscope\u001b[49m\u001b[43m,\u001b[49m\u001b[43m \u001b[49m\u001b[43mtenant_id\u001b[49m\u001b[38;5;241;43m=\u001b[39;49m\u001b[43mchallenge\u001b[49m\u001b[38;5;241;43m.\u001b[39;49m\u001b[43mtenant_id\u001b[49m\u001b[43m)\u001b[49m\n\u001b[1;32m    139\u001b[0m \u001b[38;5;28;01mreturn\u001b[39;00m \u001b[38;5;28;01mTrue\u001b[39;00m\n",
      "File \u001b[0;32m~/Library/Python/3.9/lib/python/site-packages/azure/core/pipeline/policies/_authentication.py:113\u001b[0m, in \u001b[0;36mBearerTokenCredentialPolicy.authorize_request\u001b[0;34m(self, request, *scopes, **kwargs)\u001b[0m\n\u001b[1;32m    111\u001b[0m \u001b[38;5;28;01mif\u001b[39;00m \u001b[38;5;28mself\u001b[39m\u001b[38;5;241m.\u001b[39m_enable_cae:\n\u001b[1;32m    112\u001b[0m     kwargs\u001b[38;5;241m.\u001b[39msetdefault(\u001b[38;5;124m\"\u001b[39m\u001b[38;5;124menable_cae\u001b[39m\u001b[38;5;124m\"\u001b[39m, \u001b[38;5;28mself\u001b[39m\u001b[38;5;241m.\u001b[39m_enable_cae)\n\u001b[0;32m--> 113\u001b[0m \u001b[38;5;28mself\u001b[39m\u001b[38;5;241m.\u001b[39m_token \u001b[38;5;241m=\u001b[39m \u001b[38;5;28;43mself\u001b[39;49m\u001b[38;5;241;43m.\u001b[39;49m\u001b[43m_credential\u001b[49m\u001b[38;5;241;43m.\u001b[39;49m\u001b[43mget_token\u001b[49m\u001b[43m(\u001b[49m\u001b[38;5;241;43m*\u001b[39;49m\u001b[43mscopes\u001b[49m\u001b[43m,\u001b[49m\u001b[43m \u001b[49m\u001b[38;5;241;43m*\u001b[39;49m\u001b[38;5;241;43m*\u001b[39;49m\u001b[43mkwargs\u001b[49m\u001b[43m)\u001b[49m\n\u001b[1;32m    114\u001b[0m \u001b[38;5;28mself\u001b[39m\u001b[38;5;241m.\u001b[39m_update_headers(request\u001b[38;5;241m.\u001b[39mhttp_request\u001b[38;5;241m.\u001b[39mheaders, \u001b[38;5;28mself\u001b[39m\u001b[38;5;241m.\u001b[39m_token\u001b[38;5;241m.\u001b[39mtoken)\n",
      "File \u001b[0;32m~/Library/Python/3.9/lib/python/site-packages/azure/identity/_credentials/default.py:225\u001b[0m, in \u001b[0;36mDefaultAzureCredential.get_token\u001b[0;34m(self, claims, tenant_id, *scopes, **kwargs)\u001b[0m\n\u001b[1;32m    223\u001b[0m     \u001b[38;5;28;01mreturn\u001b[39;00m token\n\u001b[1;32m    224\u001b[0m within_dac\u001b[38;5;241m.\u001b[39mset(\u001b[38;5;28;01mTrue\u001b[39;00m)\n\u001b[0;32m--> 225\u001b[0m token \u001b[38;5;241m=\u001b[39m \u001b[38;5;28;43msuper\u001b[39;49m\u001b[43m(\u001b[49m\u001b[43m)\u001b[49m\u001b[38;5;241;43m.\u001b[39;49m\u001b[43mget_token\u001b[49m\u001b[43m(\u001b[49m\u001b[38;5;241;43m*\u001b[39;49m\u001b[43mscopes\u001b[49m\u001b[43m,\u001b[49m\u001b[43m \u001b[49m\u001b[43mclaims\u001b[49m\u001b[38;5;241;43m=\u001b[39;49m\u001b[43mclaims\u001b[49m\u001b[43m,\u001b[49m\u001b[43m \u001b[49m\u001b[43mtenant_id\u001b[49m\u001b[38;5;241;43m=\u001b[39;49m\u001b[43mtenant_id\u001b[49m\u001b[43m,\u001b[49m\u001b[43m \u001b[49m\u001b[38;5;241;43m*\u001b[39;49m\u001b[38;5;241;43m*\u001b[39;49m\u001b[43mkwargs\u001b[49m\u001b[43m)\u001b[49m\n\u001b[1;32m    226\u001b[0m within_dac\u001b[38;5;241m.\u001b[39mset(\u001b[38;5;28;01mFalse\u001b[39;00m)\n\u001b[1;32m    227\u001b[0m \u001b[38;5;28;01mreturn\u001b[39;00m token\n",
      "File \u001b[0;32m~/Library/Python/3.9/lib/python/site-packages/azure/identity/_credentials/chained.py:124\u001b[0m, in \u001b[0;36mChainedTokenCredential.get_token\u001b[0;34m(self, claims, tenant_id, *scopes, **kwargs)\u001b[0m\n\u001b[1;32m    116\u001b[0m message \u001b[38;5;241m=\u001b[39m (\n\u001b[1;32m    117\u001b[0m     \u001b[38;5;28mself\u001b[39m\u001b[38;5;241m.\u001b[39m\u001b[38;5;18m__class__\u001b[39m\u001b[38;5;241m.\u001b[39m\u001b[38;5;18m__name__\u001b[39m\n\u001b[1;32m    118\u001b[0m     \u001b[38;5;241m+\u001b[39m \u001b[38;5;124m\"\u001b[39m\u001b[38;5;124m failed to retrieve a token from the included credentials.\u001b[39m\u001b[38;5;124m\"\u001b[39m\n\u001b[0;32m   (...)\u001b[0m\n\u001b[1;32m    121\u001b[0m     \u001b[38;5;124m\"\u001b[39m\u001b[38;5;124mhttps://aka.ms/azsdk/python/identity/defaultazurecredential/troubleshoot.\u001b[39m\u001b[38;5;124m\"\u001b[39m\n\u001b[1;32m    122\u001b[0m )\n\u001b[1;32m    123\u001b[0m _LOGGER\u001b[38;5;241m.\u001b[39mwarning(message)\n\u001b[0;32m--> 124\u001b[0m \u001b[38;5;28;01mraise\u001b[39;00m ClientAuthenticationError(message\u001b[38;5;241m=\u001b[39mmessage)\n",
      "\u001b[0;31mClientAuthenticationError\u001b[0m: DefaultAzureCredential failed to retrieve a token from the included credentials.\nAttempted credentials:\n\tEnvironmentCredential: EnvironmentCredential authentication unavailable. Environment variables are not fully configured.\nVisit https://aka.ms/azsdk/python/identity/environmentcredential/troubleshoot to troubleshoot this issue.\n\tManagedIdentityCredential: ManagedIdentityCredential authentication unavailable, no response from the IMDS endpoint.\n\tSharedTokenCacheCredential: SharedTokenCacheCredential authentication unavailable. No accounts were found in the cache.\n\tAzureCliCredential: Azure CLI not found on path\n\tAzurePowerShellCredential: PowerShell is not installed\n\tAzureDeveloperCliCredential: Azure Developer CLI could not be found. Please visit https://aka.ms/azure-dev for installation instructions and then,once installed, authenticate to your Azure account using 'azd auth login'.\nTo mitigate this issue, please refer to the troubleshooting guidelines here at https://aka.ms/azsdk/python/identity/defaultazurecredential/troubleshoot."
     ]
    }
   ],
   "source": [
    "\n",
    "\n",
    "# system-assigned managed identity\n",
    "cred = DefaultAzureCredential()\n",
    " \n",
    "#VAULT_URL = os.environ[\"AZURE_KEYVAULT_RESOURCEENDPOINT\"]\n",
    "secret_client = SecretClient(vault_url=VAULT_URL, credential=cred)\n",
    " \n",
    "AZURE_OPENAI_SECRET = secret_client.get_secret(\"llm-dev-02\")\n",
    "assert AZURE_OPENAI_SECRET, \"ERROR: Azure OpenAI Key is missing\"\n",
    " \n",
    "AZURE_OPENAI_ENDPOINT = \"https://llm-dev-02.openai.azure.com/\"\n",
    "AZURE_OPENAI_API_VERSION = \"2023-05-15\"\n",
    "CHAT_DEPLOYMENT_NAME =  \"gpt4-turbo-askbsw\"\n",
    "EMBEDDING_DEPLOYMENT_NAME = \"text-embedding-ada02-askbsw\"\n",
    " \n",
    "SEARCH_SERVICE_ENDPOINT = \"https://cog-askbsw-dev.search.windows.net/\"\n",
    "SEARCH_SERVICE_API_SECRET = secret_client.get_secret(\"searchserviceapikey\")\n",
    "assert SEARCH_SERVICE_API_SECRET, \"ERROR: Search Service Key is missing\"\n",
    " \n",
    "INDEX_NAME = \"askms-embeddings-index-v2\"\n",
    "TEMPERATURE = 0.01\n",
    " \n",
    "MESSAGE_BUFFER = 4\n",
    " \n",
    "VECTOR_SEARCH_SCORE_THRESHOLD = 0.81"
   ]
  },
  {
   "cell_type": "code",
   "execution_count": 10,
   "metadata": {},
   "outputs": [],
   "source": [
    "import os\n",
    "import openai\n",
    "#.api_key=openai_key"
   ]
  },
  {
   "cell_type": "code",
   "execution_count": 11,
   "metadata": {},
   "outputs": [],
   "source": [
    "#from dotenv import load_dotenv\n",
    "from langchain.chat_models import AzureChatOpenAI\n",
    "from langchain.embeddings import OpenAIEmbeddings\n",
    "#load_dotenv\n"
   ]
  },
  {
   "cell_type": "code",
   "execution_count": 12,
   "metadata": {},
   "outputs": [],
   "source": [
    "\n",
    "AZURE_OPENAI_API_KEY=\"8cf7f12ce06d4dd387dcdc3e8e4594fc\""
   ]
  },
  {
   "cell_type": "code",
   "execution_count": 13,
   "metadata": {},
   "outputs": [],
   "source": [
    "AZURE_OPENAI_ENDPOINT=\"https://llm-dev-02.openai.azure.com\""
   ]
  },
  {
   "cell_type": "code",
   "execution_count": 14,
   "metadata": {},
   "outputs": [],
   "source": [
    "Azureclient= AzureOpenAI(\n",
    "    azure_endpoint=AZURE_OPENAI_ENDPOINT,\n",
    "    api_key=AZURE_OPENAI_API_KEY,\n",
    "    api_version=\"2023-07-01-preview\",\n",
    "    azure_deployment=\"mybswhealth\"\n",
    "    \n",
    ")"
   ]
  },
  {
   "cell_type": "code",
   "execution_count": 23,
   "metadata": {},
   "outputs": [],
   "source": [
    "azureopenaipatchclient = instructor.patch( AzureOpenAI(\n",
    "    azure_endpoint=AZURE_OPENAI_ENDPOINT,\n",
    "    api_key=AZURE_OPENAI_API_KEY,\n",
    "    api_version=\"2023-07-01-preview\",\n",
    "    azure_deployment=\"mybswhealth\"\n",
    "    \n",
    "))"
   ]
  },
  {
   "cell_type": "code",
   "execution_count": 15,
   "metadata": {},
   "outputs": [
    {
     "name": "stdout",
     "output_type": "stream",
     "text": [
      "assistant: Orange who?\n"
     ]
    }
   ],
   "source": [
    "response = Azureclient.chat.completions.create(\n",
    "    model=\"gpt-35-turbo\",\n",
    "    messages=[\n",
    "        {\"role\": \"system\", \"content\": \"You are a helpful assistant.\"},\n",
    "        {\"role\": \"user\", \"content\": \"Knock knock.\"},\n",
    "        {\"role\": \"assistant\", \"content\": \"Who's there?\"},\n",
    "        {\"role\": \"user\", \"content\": \"Orange.\"},\n",
    "    ],\n",
    "    #temperature=0,\n",
    ")\n",
    "\n",
    "print(f\"{response.choices[0].message.role}: {response.choices[0].message.content}\")\n"
   ]
  },
  {
   "cell_type": "code",
   "execution_count": 60,
   "metadata": {},
   "outputs": [
    {
     "name": "stdout",
     "output_type": "stream",
     "text": [
      "assistant: Orange who?\n"
     ]
    }
   ],
   "source": [
    "# For all possible arguments see https://platform.openai.com/docs/api-reference/chat-completions/create\n",
    "response = openAIclient.chat.completions.create(\n",
    "    model=\"gpt-3.5-turbo\",\n",
    "    messages=[\n",
    "        {\"role\": \"system\", \"content\": \"You are a helpful assistant.\"},\n",
    "        {\"role\": \"user\", \"content\": \"Knock knock.\"},\n",
    "        {\"role\": \"assistant\", \"content\": \"Who's there?\"},\n",
    "        {\"role\": \"user\", \"content\": \"Orange.\"},\n",
    "    ],\n",
    "    temperature=0,\n",
    ")\n",
    "\n",
    "print(f\"{response.choices[0].message.role}: {response.choices[0].message.content}\")\n"
   ]
  },
  {
   "cell_type": "code",
   "execution_count": null,
   "metadata": {},
   "outputs": [],
   "source": [
    "response = client.chat.completions.create(\n",
    "    model=deployment,\n",
    "    messages=[\n",
    "        {\"role\": \"system\", \"content\": \"You are a helpful assistant.\"},\n",
    "        {\"role\": \"user\", \"content\": \"Knock knock.\"},\n",
    "        {\"role\": \"assistant\", \"content\": \"Who's there?\"},\n",
    "        {\"role\": \"user\", \"content\": \"Orange.\"},\n",
    "    ],\n",
    "    temperature=0,\n",
    "    stream=True\n",
    ")\n",
    "\n",
    "for chunk in response:\n",
    "    if len(chunk.choices) > 0:\n",
    "        delta = chunk.choices[0].delta\n",
    "\n",
    "        if delta.role:\n",
    "            print(delta.role + \": \", end=\"\", flush=True)\n",
    "        if delta.content:\n",
    "            print(delta.content, end=\"\", flush=True)\n"
   ]
  },
  {
   "cell_type": "code",
   "execution_count": null,
   "metadata": {},
   "outputs": [],
   "source": [
    "import json\n",
    "\n",
    "messages = [\n",
    "    {\"role\": \"system\", \"content\": \"You are a helpful assistant.\"},\n",
    "    {\"role\": \"user\", \"content\": \"<text violating the content policy>\"}\n",
    "]\n",
    "\n",
    "try:\n",
    "    completion = client.chat.completions.create(\n",
    "        messages=messages,\n",
    "        model=deployment,\n",
    "    )\n",
    "except openai.BadRequestError as e:\n",
    "    err = json.loads(e.response.text)\n",
    "    if err[\"error\"][\"code\"] == \"content_filter\":\n",
    "        print(\"Content filter triggered!\")\n",
    "        content_filter_result = err[\"error\"][\"innererror\"][\"content_filter_result\"]\n",
    "        for category, details in content_filter_result.items():\n",
    "            print(f\"{category}:\\n filtered={details['filtered']}\\n severity={details['severity']}\")\n"
   ]
  },
  {
   "cell_type": "code",
   "execution_count": null,
   "metadata": {},
   "outputs": [],
   "source": [
    "messages = [\n",
    "    {\"role\": \"system\", \"content\": \"You are a helpful assistant.\"},\n",
    "    {\"role\": \"user\", \"content\": \"What's the biggest city in Washington?\"}\n",
    "]\n",
    "\n",
    "completion = client.chat.completions.create(\n",
    "    messages=messages,\n",
    "    model=deployment,\n",
    ")\n",
    "print(f\"Answer: {completion.choices[0].message.content}\")\n",
    "\n",
    "# prompt content filter result in \"model_extra\" for azure\n",
    "prompt_filter_result = completion.model_extra[\"prompt_filter_results\"][0][\"content_filter_results\"]\n",
    "print(\"\\nPrompt content filter results:\")\n",
    "for category, details in prompt_filter_result.items():\n",
    "    print(f\"{category}:\\n filtered={details['filtered']}\\n severity={details['severity']}\")\n",
    "\n",
    "# completion content filter result\n",
    "print(\"\\nCompletion content filter results:\")\n",
    "completion_filter_result = completion.choices[0].model_extra[\"content_filter_results\"]\n",
    "for category, details in completion_filter_result.items():\n",
    "    print(f\"{category}:\\n filtered={details['filtered']}\\n severity={details['severity']}\")"
   ]
  },
  {
   "cell_type": "code",
   "execution_count": 42,
   "metadata": {},
   "outputs": [
    {
     "name": "stdout",
     "output_type": "stream",
     "text": [
      "Defaulting to user installation because normal site-packages is not writeable\n",
      "Collecting instructor==0.3.1\n",
      "  Downloading instructor-0.3.1-py3-none-any.whl.metadata (7.3 kB)\n",
      "Collecting docstring-parser<0.16,>=0.15 (from instructor==0.3.1)\n",
      "  Downloading docstring_parser-0.15-py3-none-any.whl.metadata (2.4 kB)\n",
      "Requirement already satisfied: openai<2.0.0,>=1.1.0 in /Users/balasubramaniamdakshinamoorthi/Library/Python/3.9/lib/python/site-packages (from instructor==0.3.1) (1.16.1)\n",
      "Requirement already satisfied: pydantic<3.0.0,>=2.0.2 in /Users/balasubramaniamdakshinamoorthi/Library/Python/3.9/lib/python/site-packages (from instructor==0.3.1) (2.6.4)\n",
      "Collecting typer<0.10.0,>=0.9.0 (from instructor==0.3.1)\n",
      "  Downloading typer-0.9.4-py3-none-any.whl.metadata (14 kB)\n",
      "Requirement already satisfied: anyio<5,>=3.5.0 in /Users/balasubramaniamdakshinamoorthi/Library/Python/3.9/lib/python/site-packages (from openai<2.0.0,>=1.1.0->instructor==0.3.1) (4.2.0)\n",
      "Requirement already satisfied: distro<2,>=1.7.0 in /Users/balasubramaniamdakshinamoorthi/Library/Python/3.9/lib/python/site-packages (from openai<2.0.0,>=1.1.0->instructor==0.3.1) (1.9.0)\n",
      "Requirement already satisfied: httpx<1,>=0.23.0 in /Users/balasubramaniamdakshinamoorthi/Library/Python/3.9/lib/python/site-packages (from openai<2.0.0,>=1.1.0->instructor==0.3.1) (0.27.0)\n",
      "Requirement already satisfied: sniffio in /Users/balasubramaniamdakshinamoorthi/Library/Python/3.9/lib/python/site-packages (from openai<2.0.0,>=1.1.0->instructor==0.3.1) (1.3.0)\n",
      "Requirement already satisfied: tqdm>4 in /Users/balasubramaniamdakshinamoorthi/Library/Python/3.9/lib/python/site-packages (from openai<2.0.0,>=1.1.0->instructor==0.3.1) (4.66.2)\n",
      "Requirement already satisfied: typing-extensions<5,>=4.7 in /Users/balasubramaniamdakshinamoorthi/Library/Python/3.9/lib/python/site-packages (from openai<2.0.0,>=1.1.0->instructor==0.3.1) (4.9.0)\n",
      "Requirement already satisfied: annotated-types>=0.4.0 in /Users/balasubramaniamdakshinamoorthi/Library/Python/3.9/lib/python/site-packages (from pydantic<3.0.0,>=2.0.2->instructor==0.3.1) (0.6.0)\n",
      "Requirement already satisfied: pydantic-core==2.16.3 in /Users/balasubramaniamdakshinamoorthi/Library/Python/3.9/lib/python/site-packages (from pydantic<3.0.0,>=2.0.2->instructor==0.3.1) (2.16.3)\n",
      "Collecting click<9.0.0,>=7.1.1 (from typer<0.10.0,>=0.9.0->instructor==0.3.1)\n",
      "  Downloading click-8.1.7-py3-none-any.whl.metadata (3.0 kB)\n",
      "Requirement already satisfied: idna>=2.8 in /Users/balasubramaniamdakshinamoorthi/Library/Python/3.9/lib/python/site-packages (from anyio<5,>=3.5.0->openai<2.0.0,>=1.1.0->instructor==0.3.1) (3.6)\n",
      "Requirement already satisfied: exceptiongroup>=1.0.2 in /Users/balasubramaniamdakshinamoorthi/Library/Python/3.9/lib/python/site-packages (from anyio<5,>=3.5.0->openai<2.0.0,>=1.1.0->instructor==0.3.1) (1.2.0)\n",
      "Requirement already satisfied: certifi in /Users/balasubramaniamdakshinamoorthi/Library/Python/3.9/lib/python/site-packages (from httpx<1,>=0.23.0->openai<2.0.0,>=1.1.0->instructor==0.3.1) (2024.2.2)\n",
      "Requirement already satisfied: httpcore==1.* in /Users/balasubramaniamdakshinamoorthi/Library/Python/3.9/lib/python/site-packages (from httpx<1,>=0.23.0->openai<2.0.0,>=1.1.0->instructor==0.3.1) (1.0.5)\n",
      "Requirement already satisfied: h11<0.15,>=0.13 in /Users/balasubramaniamdakshinamoorthi/Library/Python/3.9/lib/python/site-packages (from httpcore==1.*->httpx<1,>=0.23.0->openai<2.0.0,>=1.1.0->instructor==0.3.1) (0.14.0)\n",
      "Downloading instructor-0.3.1-py3-none-any.whl (22 kB)\n",
      "Downloading docstring_parser-0.15-py3-none-any.whl (36 kB)\n",
      "Downloading typer-0.9.4-py3-none-any.whl (45 kB)\n",
      "\u001b[2K   \u001b[90m━━━━━━━━━━━━━━━━━━━━━━━━━━━━━━━━━━━━━━━━\u001b[0m \u001b[32m46.0/46.0 kB\u001b[0m \u001b[31m5.2 MB/s\u001b[0m eta \u001b[36m0:00:00\u001b[0m\n",
      "\u001b[?25hDownloading click-8.1.7-py3-none-any.whl (97 kB)\n",
      "\u001b[2K   \u001b[90m━━━━━━━━━━━━━━━━━━━━━━━━━━━━━━━━━━━━━━━━\u001b[0m \u001b[32m97.9/97.9 kB\u001b[0m \u001b[31m8.6 MB/s\u001b[0m eta \u001b[36m0:00:00\u001b[0m\n",
      "\u001b[?25hInstalling collected packages: docstring-parser, click, typer, instructor\n",
      "Successfully installed click-8.1.7 docstring-parser-0.15 instructor-0.3.1 typer-0.9.4\n",
      "Note: you may need to restart the kernel to use updated packages.\n"
     ]
    }
   ],
   "source": [
    "pip install instructor==0.3.1"
   ]
  },
  {
   "cell_type": "code",
   "execution_count": 17,
   "metadata": {},
   "outputs": [],
   "source": [
    "import enum\n",
    "from pydantic import BaseModel\n",
    "\n",
    "\n",
    "class Labels(str, enum.Enum):\n",
    "    \"\"\"Enumeration for single-label text classification.\"\"\"\n",
    "\n",
    "    SPAM = \"spam\"\n",
    "    NOT_SPAM = \"not_spam\"\n",
    "\n",
    "\n",
    "class SinglePrediction(BaseModel):\n",
    "    \"\"\"\n",
    "    Class for a single class label prediction.\n",
    "    \"\"\"\n",
    "\n",
    "    class_label: Labels"
   ]
  },
  {
   "cell_type": "code",
   "execution_count": 20,
   "metadata": {},
   "outputs": [],
   "source": [
    "from pydantic import Field\n",
    "from typing import Optional\n",
    "import instructor\n",
    "import openai\n",
    "\n",
    "\n",
    "class Validator(instructor.OpenAISchema):\n",
    "    \"\"\"\n",
    "    Validate if an attribute is correct and if not,\n",
    "    return a new value with an error message\n",
    "    \"\"\"\n",
    "\n",
    "    is_valid: bool = Field(\n",
    "        default=True,\n",
    "        description=\"Whether the attribute is valid based on the requirements\",\n",
    "    )\n",
    "    reason: Optional[str] = Field(\n",
    "        default=None,\n",
    "        description=\"The error message if the attribute is not valid, otherwise None\",\n",
    "    )\n",
    "    fixed_value: Optional[str] = Field(\n",
    "        default=None,\n",
    "        description=\"If the attribute is not valid, suggest a new value for the attribute\",\n",
    "    )\n",
    "\n",
    "\n",
    "def llm_validator(\n",
    "    statement: str,\n",
    "    allow_override: bool = False,\n",
    "    engine: str = \"gpt-35-turbo\",\n",
    "    temperature: float = 0,\n",
    "):\n",
    "    \"\"\"\n",
    "    Create a validator that uses the LLM to validate an attribute\n",
    "\n",
    "    ## Usage\n",
    "\n",
    "    ```python\n",
    "    from instructor import llm_validator\n",
    "    from pydantic import BaseModel, Field, field_validator\n",
    "\n",
    "    class User(BaseModel):\n",
    "        name: str = Annotated[str, llm_validator(\"The name must be a full name all lowercase\")]\n",
    "        age: int = Field(description=\"The age of the person\")\n",
    "\n",
    "    try:\n",
    "        user = User(name=\"Jason Liu\", age=20)\n",
    "    except ValidationError as e:\n",
    "        print(e)\n",
    "    ```\n",
    "\n",
    "    ```\n",
    "    1 validation error for User\n",
    "    name\n",
    "      The name is valid but not all lowercase (type=value_error.llm_validator)\n",
    "    ```\n",
    "\n",
    "    Note that there, the error message is written by the LLM, and the error type is `value_error.llm_validator`.\n",
    "\n",
    "    Parameters:\n",
    "        statement (str): The statement to validate\n",
    "        model (str): The LLM to use for validation (default: \"gpt-3.5-turbo-0613\")\n",
    "        temperature (float): The temperature to use for the LLM (default: 0)\n",
    "    \"\"\"\n",
    "\n",
    "    def llm(v):\n",
    "        resp = openai.ChatCompletion.create(\n",
    "            functions=[Validator.openai_schema],\n",
    "            function_call={\"name\": Validator.openai_schema[\"name\"]},\n",
    "            messages=[\n",
    "                {\n",
    "                    \"role\": \"system\",\n",
    "                    \"content\": \"You are a world class validation model. Capable to determine if the following value is valid for the statement, if it is not, explain why and suggest a new value.\",\n",
    "                },\n",
    "                {\n",
    "                    \"role\": \"user\",\n",
    "                    \"content\": f\"Does `{v}` follow the rules: {statement}\",\n",
    "                },\n",
    "            ],\n",
    "            engine=engine,\n",
    "            temperature=temperature,\n",
    "        )  # type: ignore\n",
    "        resp = Validator.from_response(resp)\n",
    "\n",
    "        # If the response is  not valid, return the reason, this could be used in\n",
    "        # the future to generate a better response, via reasking mechanism.\n",
    "        assert resp.is_valid, resp.reason\n",
    "\n",
    "        if allow_override and not resp.is_valid and resp.fixed_value is not None:\n",
    "            # If the value is not valid, but we allow override, return the fixed value\n",
    "            return resp.fixed_value\n",
    "        return v\n",
    "\n",
    "    return llm\n"
   ]
  },
  {
   "cell_type": "code",
   "execution_count": 21,
   "metadata": {},
   "outputs": [
    {
     "name": "stdout",
     "output_type": "stream",
     "text": [
      "Defaulting to user installation because normal site-packages is not writeable\n",
      "Requirement already satisfied: pydantic in /Users/balasubramaniamdakshinamoorthi/Library/Python/3.9/lib/python/site-packages (2.6.4)\n",
      "Requirement already satisfied: annotated-types>=0.4.0 in /Users/balasubramaniamdakshinamoorthi/Library/Python/3.9/lib/python/site-packages (from pydantic) (0.6.0)\n",
      "Requirement already satisfied: pydantic-core==2.16.3 in /Users/balasubramaniamdakshinamoorthi/Library/Python/3.9/lib/python/site-packages (from pydantic) (2.16.3)\n",
      "Requirement already satisfied: typing-extensions>=4.6.1 in /Users/balasubramaniamdakshinamoorthi/Library/Python/3.9/lib/python/site-packages (from pydantic) (4.8.0)\n",
      "Note: you may need to restart the kernel to use updated packages.\n"
     ]
    }
   ],
   "source": [
    "pip install pydantic"
   ]
  },
  {
   "cell_type": "code",
   "execution_count": 22,
   "metadata": {},
   "outputs": [
    {
     "name": "stdout",
     "output_type": "stream",
     "text": [
      "Defaulting to user installation because normal site-packages is not writeable\n",
      "Requirement already satisfied: instructor==0.3.1 in /Users/balasubramaniamdakshinamoorthi/Library/Python/3.9/lib/python/site-packages (0.3.1)\n",
      "Requirement already satisfied: docstring-parser<0.16,>=0.15 in /Users/balasubramaniamdakshinamoorthi/Library/Python/3.9/lib/python/site-packages (from instructor==0.3.1) (0.15)\n",
      "Requirement already satisfied: openai<2.0.0,>=1.1.0 in /Users/balasubramaniamdakshinamoorthi/Library/Python/3.9/lib/python/site-packages (from instructor==0.3.1) (1.1.2)\n",
      "Requirement already satisfied: pydantic<3.0.0,>=2.0.2 in /Users/balasubramaniamdakshinamoorthi/Library/Python/3.9/lib/python/site-packages (from instructor==0.3.1) (2.6.4)\n",
      "Requirement already satisfied: typer<0.10.0,>=0.9.0 in /Users/balasubramaniamdakshinamoorthi/Library/Python/3.9/lib/python/site-packages (from instructor==0.3.1) (0.9.4)\n",
      "Requirement already satisfied: anyio<4,>=3.5.0 in /Users/balasubramaniamdakshinamoorthi/Library/Python/3.9/lib/python/site-packages (from openai<2.0.0,>=1.1.0->instructor==0.3.1) (3.7.1)\n",
      "Requirement already satisfied: distro<2,>=1.7.0 in /Users/balasubramaniamdakshinamoorthi/Library/Python/3.9/lib/python/site-packages (from openai<2.0.0,>=1.1.0->instructor==0.3.1) (1.9.0)\n",
      "Requirement already satisfied: httpx<1,>=0.23.0 in /Users/balasubramaniamdakshinamoorthi/Library/Python/3.9/lib/python/site-packages (from openai<2.0.0,>=1.1.0->instructor==0.3.1) (0.27.0)\n",
      "Requirement already satisfied: tqdm>4 in /Users/balasubramaniamdakshinamoorthi/Library/Python/3.9/lib/python/site-packages (from openai<2.0.0,>=1.1.0->instructor==0.3.1) (4.66.2)\n",
      "Requirement already satisfied: typing-extensions<5,>=4.5 in /Users/balasubramaniamdakshinamoorthi/Library/Python/3.9/lib/python/site-packages (from openai<2.0.0,>=1.1.0->instructor==0.3.1) (4.8.0)\n",
      "Requirement already satisfied: annotated-types>=0.4.0 in /Users/balasubramaniamdakshinamoorthi/Library/Python/3.9/lib/python/site-packages (from pydantic<3.0.0,>=2.0.2->instructor==0.3.1) (0.6.0)\n",
      "Requirement already satisfied: pydantic-core==2.16.3 in /Users/balasubramaniamdakshinamoorthi/Library/Python/3.9/lib/python/site-packages (from pydantic<3.0.0,>=2.0.2->instructor==0.3.1) (2.16.3)\n",
      "Requirement already satisfied: click<9.0.0,>=7.1.1 in /Users/balasubramaniamdakshinamoorthi/Library/Python/3.9/lib/python/site-packages (from typer<0.10.0,>=0.9.0->instructor==0.3.1) (8.1.7)\n",
      "Requirement already satisfied: idna>=2.8 in /Users/balasubramaniamdakshinamoorthi/Library/Python/3.9/lib/python/site-packages (from anyio<4,>=3.5.0->openai<2.0.0,>=1.1.0->instructor==0.3.1) (3.4)\n",
      "Requirement already satisfied: sniffio>=1.1 in /Users/balasubramaniamdakshinamoorthi/Library/Python/3.9/lib/python/site-packages (from anyio<4,>=3.5.0->openai<2.0.0,>=1.1.0->instructor==0.3.1) (1.3.0)\n",
      "Requirement already satisfied: exceptiongroup in /Users/balasubramaniamdakshinamoorthi/Library/Python/3.9/lib/python/site-packages (from anyio<4,>=3.5.0->openai<2.0.0,>=1.1.0->instructor==0.3.1) (1.2.0)\n",
      "Requirement already satisfied: certifi in /Users/balasubramaniamdakshinamoorthi/Library/Python/3.9/lib/python/site-packages (from httpx<1,>=0.23.0->openai<2.0.0,>=1.1.0->instructor==0.3.1) (2023.7.22)\n",
      "Requirement already satisfied: httpcore==1.* in /Users/balasubramaniamdakshinamoorthi/Library/Python/3.9/lib/python/site-packages (from httpx<1,>=0.23.0->openai<2.0.0,>=1.1.0->instructor==0.3.1) (1.0.5)\n",
      "Requirement already satisfied: h11<0.15,>=0.13 in /Users/balasubramaniamdakshinamoorthi/Library/Python/3.9/lib/python/site-packages (from httpcore==1.*->httpx<1,>=0.23.0->openai<2.0.0,>=1.1.0->instructor==0.3.1) (0.14.0)\n",
      "Note: you may need to restart the kernel to use updated packages.\n"
     ]
    }
   ],
   "source": [
    "pip install instructor==0.3.1"
   ]
  },
  {
   "cell_type": "code",
   "execution_count": 25,
   "metadata": {},
   "outputs": [],
   "source": [
    "import enum\n",
    "from pydantic import BaseModel"
   ]
  },
  {
   "cell_type": "code",
   "execution_count": 26,
   "metadata": {},
   "outputs": [],
   "source": [
    "from typing import List\n",
    "import enum\n",
    "\n",
    "# Define Enum class for multiple labels\n",
    "class MultiLabels(str, enum.Enum):\n",
    "    TECH_ISSUE = \"tech_issue\"\n",
    "    BILLING = \"billing\"\n",
    "    GENERAL_QUERY = \"general_query\"\n",
    "\n",
    "\n",
    "# Define the multi-class prediction model\n",
    "class MultiClassPrediction(BaseModel):\n",
    "    \"\"\"\n",
    "    Class for a multi-class label prediction.\n",
    "    \"\"\"\n",
    "\n",
    "    class_labels: List[MultiLabels]"
   ]
  },
  {
   "cell_type": "code",
   "execution_count": 78,
   "metadata": {},
   "outputs": [],
   "source": [
    "from pydantic import BaseModel, ValidationError, BeforeValidator\n",
    "from typing_extensions import Annotated\n",
    "from instructor import llm_validator\n",
    "\n"
   ]
  },
  {
   "cell_type": "markdown",
   "metadata": {},
   "source": [
    "from typing import List\n",
    "import enum\n",
    "\n",
    "# Define Enum class for multiple labels\n",
    "class MultiLabels(str, enum.Enum):\n",
    "    TECH_ISSUE = \"tech_issue\"\n",
    "    BILLING = \"billing\"\n",
    "    GENERAL_QUERY = \"general_query\"\n",
    "\n",
    "\n",
    "# Define the multi-class prediction model\n",
    "class MultiClassPrediction(BaseModel):\n",
    "    \"\"\"\n",
    "    Class for a multi-class label prediction.\n",
    "    \"\"\"\n",
    "\n",
    "    class_labels: List[MultiLabels]"
   ]
  },
  {
   "cell_type": "code",
   "execution_count": 29,
   "metadata": {},
   "outputs": [],
   "source": [
    "def multi_classify(data: str) -> MultiClassPrediction:\n",
    "    \"\"\"Perform multi-label classification on the input text.\"\"\"\n",
    "    return azureopenaipatchclient .chat.completions.create(\n",
    "        model=\"gpt-3.5-turbo-0613\",\n",
    "        response_model=MultiClassPrediction,\n",
    "        messages=[\n",
    "            {\n",
    "                \"role\": \"user\",\n",
    "                \"content\": f\"Classify the following support ticket: {data}\",\n",
    "            },\n",
    "        ],\n",
    "    )  # type: ignore"
   ]
  },
  {
   "cell_type": "code",
   "execution_count": 30,
   "metadata": {},
   "outputs": [],
   "source": [
    "# Test multi-label classification\n",
    "ticket = \"My account is locked and I can't access my billing info.\"\n",
    "prediction = multi_classify(ticket)\n",
    "assert MultiLabels.TECH_ISSUE in prediction.class_labels\n",
    "assert MultiLabels.BILLING in prediction.class_labels"
   ]
  },
  {
   "cell_type": "code",
   "execution_count": 31,
   "metadata": {},
   "outputs": [
    {
     "name": "stdout",
     "output_type": "stream",
     "text": [
      "class_labels=[<MultiLabels.TECH_ISSUE: 'tech_issue'>, <MultiLabels.BILLING: 'billing'>, <MultiLabels.GENERAL_QUERY: 'general_query'>]\n"
     ]
    }
   ],
   "source": [
    "\n",
    "print(prediction)"
   ]
  },
  {
   "cell_type": "code",
   "execution_count": 34,
   "metadata": {},
   "outputs": [],
   "source": [
    "# Test multi-label classification\n",
    "ticket = \"My bill is came abnormally high this month.\"\n",
    "prediction1 = multi_classify(ticket)\n",
    "assert MultiLabels.TECH_ISSUE in prediction.class_labels\n",
    "assert MultiLabels.BILLING in prediction.class_labels"
   ]
  },
  {
   "cell_type": "code",
   "execution_count": 36,
   "metadata": {},
   "outputs": [
    {
     "name": "stdout",
     "output_type": "stream",
     "text": [
      "class_labels=[<MultiLabels.TECH_ISSUE: 'tech_issue'>, <MultiLabels.BILLING: 'billing'>, <MultiLabels.GENERAL_QUERY: 'general_query'>]\n"
     ]
    }
   ],
   "source": [
    "print(prediction1)"
   ]
  },
  {
   "cell_type": "code",
   "execution_count": 61,
   "metadata": {},
   "outputs": [],
   "source": [
    "# Example dummy function hard coded to return the same weather\n",
    "# In production, this could be your backend API or an external API\n",
    "import requests\n",
    "def get_current_weather(location):\n",
    "    \"\"\"Get the current weather in a given location\"\"\"\n",
    "\n",
    "    url = \"https://ai-weather-by-meteosource.p.rapidapi.com/find_places\"\n",
    "\n",
    "    querystring = {\"text\":location}\n",
    "\n",
    "    headers = {\n",
    "      \"X-RapidAPI-Key\": \"XXX\",\n",
    "      \"X-RapidAPI-Host\": \"XXX\"\n",
    "    }\n",
    "\n",
    "    response = requests.get(url, headers=headers, params=querystring)\n",
    "\n",
    "    print(response.json())\n",
    "  \n",
    "    return response.json()\n"
   ]
  },
  {
   "cell_type": "code",
   "execution_count": 62,
   "metadata": {},
   "outputs": [
    {
     "name": "stdout",
     "output_type": "stream",
     "text": [
      "{'messages': \"The host you've provided is invalid. If you have difficulties, contact the RapidAPI support team, support@rapidapi.com\"}\n"
     ]
    }
   ],
   "source": [
    "response=get_current_weather('Bangalore')"
   ]
  },
  {
   "cell_type": "code",
   "execution_count": null,
   "metadata": {},
   "outputs": [
    {
     "ename": "",
     "evalue": "",
     "output_type": "error",
     "traceback": [
      "\u001b[1;31mRunning cells with '/opt/homebrew/bin/python3.12' requires the ipykernel package.\n",
      "\u001b[1;31mRun the following command to install 'ipykernel' into the Python environment. \n",
      "\u001b[1;31mCommand: '/opt/homebrew/bin/python3.12 -m pip install ipykernel -U --user --force-reinstall'"
     ]
    }
   ],
   "source": [
    "response"
   ]
  },
  {
   "cell_type": "code",
   "execution_count": 33,
   "metadata": {},
   "outputs": [],
   "source": [
    "functions = [\n",
    "        {\n",
    "            \"name\": \"get_current_weather\",\n",
    "            \"description\": \"Get the current weather in a given location\",\n",
    "            \"parameters\": {\n",
    "                \"type\": \"object\",\n",
    "                \"properties\": {\n",
    "                    \"location\": {\n",
    "                        \"type\": \"string\",\n",
    "                        \"description\": \"The city and state, e.g. San Francisco, CA\",\n",
    "                    },\n",
    "                    \n",
    "                },\n",
    "                \"required\": [\"location\"],\n",
    "            },\n",
    "        }\n",
    "    ]"
   ]
  },
  {
   "cell_type": "code",
   "execution_count": null,
   "metadata": {},
   "outputs": [
    {
     "ename": "",
     "evalue": "",
     "output_type": "error",
     "traceback": [
      "\u001b[1;31mRunning cells with '/opt/homebrew/bin/python3.12' requires the ipykernel package.\n",
      "\u001b[1;31mRun the following command to install 'ipykernel' into the Python environment. \n",
      "\u001b[1;31mCommand: '/opt/homebrew/bin/python3.12 -m pip install ipykernel -U --user --force-reinstall'"
     ]
    }
   ],
   "source": [
    "functions"
   ]
  },
  {
   "cell_type": "code",
   "execution_count": null,
   "metadata": {},
   "outputs": [],
   "source": []
  },
  {
   "cell_type": "code",
   "execution_count": 94,
   "metadata": {},
   "outputs": [
    {
     "name": "stdout",
     "output_type": "stream",
     "text": [
      "{\n",
      "  \"role\": \"assistant\",\n",
      "  \"content\": null,\n",
      "  \"function_call\": {\n",
      "    \"name\": \"get_current_weather\",\n",
      "    \"arguments\": \"{\\n\\\"location\\\": \\\"Bangalore\\\"\\n}\"\n",
      "  }\n",
      "}\n"
     ]
    }
   ],
   "source": [
    "print(completion.choices[0].message)"
   ]
  },
  {
   "cell_type": "code",
   "execution_count": null,
   "metadata": {},
   "outputs": [
    {
     "ename": "",
     "evalue": "",
     "output_type": "error",
     "traceback": [
      "\u001b[1;31mRunning cells with '/opt/homebrew/bin/python3.12' requires the ipykernel package.\n",
      "\u001b[1;31mRun the following command to install 'ipykernel' into the Python environment. \n",
      "\u001b[1;31mCommand: '/opt/homebrew/bin/python3.12 -m pip install ipykernel -U --user --force-reinstall'"
     ]
    }
   ],
   "source": [
    "response=completion.choices[0].message"
   ]
  },
  {
   "cell_type": "code",
   "execution_count": null,
   "metadata": {},
   "outputs": [
    {
     "ename": "",
     "evalue": "",
     "output_type": "error",
     "traceback": [
      "\u001b[1;31mRunning cells with '/opt/homebrew/bin/python3.12' requires the ipykernel package.\n",
      "\u001b[1;31mRun the following command to install 'ipykernel' into the Python environment. \n",
      "\u001b[1;31mCommand: '/opt/homebrew/bin/python3.12 -m pip install ipykernel -U --user --force-reinstall'"
     ]
    }
   ],
   "source": [
    "response"
   ]
  },
  {
   "cell_type": "code",
   "execution_count": null,
   "metadata": {},
   "outputs": [
    {
     "ename": "",
     "evalue": "",
     "output_type": "error",
     "traceback": [
      "\u001b[1;31mRunning cells with '/opt/homebrew/bin/python3.12' requires the ipykernel package.\n",
      "\u001b[1;31mRun the following command to install 'ipykernel' into the Python environment. \n",
      "\u001b[1;31mCommand: '/opt/homebrew/bin/python3.12 -m pip install ipykernel -U --user --force-reinstall'"
     ]
    }
   ],
   "source": [
    "function_name=response['function_call']['name']\n",
    "print(function_name)\n"
   ]
  },
  {
   "cell_type": "code",
   "execution_count": null,
   "metadata": {},
   "outputs": [
    {
     "ename": "",
     "evalue": "",
     "output_type": "error",
     "traceback": [
      "\u001b[1;31mRunning cells with '/opt/homebrew/bin/python3.12' requires the ipykernel package.\n",
      "\u001b[1;31mRun the following command to install 'ipykernel' into the Python environment. \n",
      "\u001b[1;31mCommand: '/opt/homebrew/bin/python3.12 -m pip install ipykernel -U --user --force-reinstall'"
     ]
    }
   ],
   "source": [
    "import json\n",
    "location=eval(response['function_call']['arguments'])['location']\n",
    "print(location)"
   ]
  },
  {
   "cell_type": "code",
   "execution_count": null,
   "metadata": {},
   "outputs": [
    {
     "ename": "",
     "evalue": "",
     "output_type": "error",
     "traceback": [
      "\u001b[1;31mRunning cells with '/opt/homebrew/bin/python3.12' requires the ipykernel package.\n",
      "\u001b[1;31mRun the following command to install 'ipykernel' into the Python environment. \n",
      "\u001b[1;31mCommand: '/opt/homebrew/bin/python3.12 -m pip install ipykernel -U --user --force-reinstall'"
     ]
    }
   ],
   "source": [
    "# Step 4: send the info on the function call and function response to GPT\n",
    "messages.append(response)  # extend conversation with assistant's reply\n",
    "messages.append(\n",
    "    {\n",
    "        \"role\": \"function\",\n",
    "        \"name\": function_name,\n",
    "        \"content\": location,\n",
    "    }\n",
    ")"
   ]
  },
  {
   "cell_type": "code",
   "execution_count": null,
   "metadata": {},
   "outputs": [
    {
     "ename": "",
     "evalue": "",
     "output_type": "error",
     "traceback": [
      "\u001b[1;31mRunning cells with '/opt/homebrew/bin/python3.12' requires the ipykernel package.\n",
      "\u001b[1;31mRun the following command to install 'ipykernel' into the Python environment. \n",
      "\u001b[1;31mCommand: '/opt/homebrew/bin/python3.12 -m pip install ipykernel -U --user --force-reinstall'"
     ]
    }
   ],
   "source": [
    "messages"
   ]
  },
  {
   "cell_type": "code",
   "execution_count": 101,
   "metadata": {},
   "outputs": [],
   "source": [
    "# extend conversation with function response\n",
    "second_response = openai.ChatCompletion.create(\n",
    "    model=\"gpt-3.5-turbo-0613\",\n",
    "    messages=messages,\n",
    "    functions=functions\n",
    ")  # get a new response from GPT where it can see the function response\n",
    "\n"
   ]
  },
  {
   "cell_type": "code",
   "execution_count": null,
   "metadata": {},
   "outputs": [
    {
     "ename": "",
     "evalue": "",
     "output_type": "error",
     "traceback": [
      "\u001b[1;31mRunning cells with '/opt/homebrew/bin/python3.12' requires the ipykernel package.\n",
      "\u001b[1;31mRun the following command to install 'ipykernel' into the Python environment. \n",
      "\u001b[1;31mCommand: '/opt/homebrew/bin/python3.12 -m pip install ipykernel -U --user --force-reinstall'"
     ]
    }
   ],
   "source": [
    "print(second_response.choices[0].message)"
   ]
  },
  {
   "cell_type": "code",
   "execution_count": null,
   "metadata": {},
   "outputs": [
    {
     "ename": "",
     "evalue": "",
     "output_type": "error",
     "traceback": [
      "\u001b[1;31mRunning cells with '/opt/homebrew/bin/python3.12' requires the ipykernel package.\n",
      "\u001b[1;31mRun the following command to install 'ipykernel' into the Python environment. \n",
      "\u001b[1;31mCommand: '/opt/homebrew/bin/python3.12 -m pip install ipykernel -U --user --force-reinstall'"
     ]
    }
   ],
   "source": [
    "second_response"
   ]
  },
  {
   "cell_type": "code",
   "execution_count": null,
   "metadata": {},
   "outputs": [],
   "source": []
  }
 ],
 "metadata": {
  "kernelspec": {
   "display_name": "Python 3",
   "language": "python",
   "name": "python3"
  },
  "language_info": {
   "codemirror_mode": {
    "name": "ipython",
    "version": 3
   },
   "file_extension": ".py",
   "mimetype": "text/x-python",
   "name": "python",
   "nbconvert_exporter": "python",
   "pygments_lexer": "ipython3",
   "version": "3.9.6"
  },
  "orig_nbformat": 4
 },
 "nbformat": 4,
 "nbformat_minor": 2
}
